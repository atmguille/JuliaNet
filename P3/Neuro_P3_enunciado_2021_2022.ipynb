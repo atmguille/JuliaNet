{
 "cells": [
  {
   "cell_type": "markdown",
   "id": "84a62458",
   "metadata": {
    "id": "PTK5XDjA81SI",
    "papermill": {
     "duration": 0.047323,
     "end_time": "2022-04-27T19:41:58.733602",
     "exception": false,
     "start_time": "2022-04-27T19:41:58.686279",
     "status": "completed"
    },
    "tags": []
   },
   "source": [
    "---\n",
    "# <font color=\"#CA3532\">Práctica 3 de Neurocomputación</font>\n",
    "### Curso 2021-2022\n",
    "### Escuela Politécnica Superior – Universidad Autónoma de Madrid\n",
    "\n",
    "---\n",
    "\n",
    "Fechas de entrega:\n",
    "- Grupo 2462: lunes 16 de mayo de 2022\n",
    "- Grupo 2461: martes 17 de mayo de 2022\n",
    "\n",
    "---\n",
    "\n",
    "Última actualización: 31-03-2022 (enunciado)\n",
    "                      09-05-2022 (resolución)\n",
    "\n",
    "---"
   ]
  },
  {
   "cell_type": "markdown",
   "id": "d5506b90",
   "metadata": {
    "id": "jqWSLi9F9lTn",
    "papermill": {
     "duration": 0.042906,
     "end_time": "2022-04-27T19:41:58.822362",
     "exception": false,
     "start_time": "2022-04-27T19:41:58.779456",
     "status": "completed"
    },
    "tags": []
   },
   "source": [
    "*Sesión 1*:\n",
    "\n",
    "- Esta práctica está centrada en [Keras](https://keras.io/).\n",
    "\n",
    "- Keras es una biblioteca de redes neuronales de código abierto, diseñada para la experimentación con redes neuronales profundas. Keras es modular, extensible y fácil de usar.\n",
    "\n",
    "- Keras puede usar distintos motores. Aquí se usará con TensorFlow.\n",
    "\n"
   ]
  },
  {
   "cell_type": "code",
   "execution_count": 1,
   "id": "8b442a40",
   "metadata": {
    "execution": {
     "iopub.execute_input": "2022-04-27T19:41:58.918069Z",
     "iopub.status.busy": "2022-04-27T19:41:58.917536Z",
     "iopub.status.idle": "2022-04-27T19:41:58.922398Z",
     "shell.execute_reply": "2022-04-27T19:41:58.921813Z",
     "shell.execute_reply.started": "2022-04-27T19:29:14.966946Z"
    },
    "id": "d7Wiw7iJCbgi",
    "papermill": {
     "duration": 0.056936,
     "end_time": "2022-04-27T19:41:58.922535",
     "exception": false,
     "start_time": "2022-04-27T19:41:58.865599",
     "status": "completed"
    },
    "tags": []
   },
   "outputs": [],
   "source": [
    "### Incluid vuestros nombres, pareja y grupo aquí:\n",
    "estudiantes = [{'nombre': 'Guillermo García Cobo', 'pareja': 'P06', 'grupo': '2402'},\n",
    "               {'nombre': 'Álvaro Zaera de la Fuente', 'pareja': 'P06', 'grupo': '2402'}]\n"
   ]
  },
  {
   "cell_type": "markdown",
   "id": "baac325a",
   "metadata": {
    "id": "Y7vp1DQU_2KC",
    "papermill": {
     "duration": 0.043126,
     "end_time": "2022-04-27T19:41:59.008004",
     "exception": false,
     "start_time": "2022-04-27T19:41:58.964878",
     "status": "completed"
    },
    "tags": []
   },
   "source": [
    "### <font color=\"#CA3532\">Importación de bibliotecas</font>\n",
    "\n",
    "TensorFlow 2.0 incluye oficialmente Keras."
   ]
  },
  {
   "cell_type": "code",
   "execution_count": 2,
   "id": "82db647a",
   "metadata": {
    "execution": {
     "iopub.execute_input": "2022-04-27T19:41:59.097989Z",
     "iopub.status.busy": "2022-04-27T19:41:59.097385Z",
     "iopub.status.idle": "2022-04-27T19:42:04.278069Z",
     "shell.execute_reply": "2022-04-27T19:42:04.277249Z",
     "shell.execute_reply.started": "2022-04-27T19:29:15.012640Z"
    },
    "id": "oY36uRqOavkU",
    "papermill": {
     "duration": 5.227663,
     "end_time": "2022-04-27T19:42:04.278198",
     "exception": false,
     "start_time": "2022-04-27T19:41:59.050535",
     "status": "completed"
    },
    "tags": []
   },
   "outputs": [],
   "source": [
    "# Importaciones\n",
    "\n",
    "import numpy as np\n",
    "import matplotlib.pyplot as plt\n",
    "\n",
    "import tensorflow as tf\n",
    "import tensorflow_addons as tfa\n",
    "from tensorflow import keras\n",
    "\n",
    "import keras as k\n",
    "from keras.models import Sequential\n",
    "from keras.layers import Dense"
   ]
  },
  {
   "cell_type": "markdown",
   "id": "34cc785d",
   "metadata": {
    "papermill": {
     "duration": 0.042321,
     "end_time": "2022-04-27T19:42:04.363115",
     "exception": false,
     "start_time": "2022-04-27T19:42:04.320794",
     "status": "completed"
    },
    "tags": []
   },
   "source": [
    "### <font color=\"#CA3532\"> Definición de seed</font>\n",
    "Fijamos la seed para obtener resultados reproducibles en cada ejecución."
   ]
  },
  {
   "cell_type": "code",
   "execution_count": 3,
   "id": "d86f60df",
   "metadata": {
    "execution": {
     "iopub.execute_input": "2022-04-27T19:42:04.453614Z",
     "iopub.status.busy": "2022-04-27T19:42:04.451875Z",
     "iopub.status.idle": "2022-04-27T19:42:04.454238Z",
     "shell.execute_reply": "2022-04-27T19:42:04.454631Z",
     "shell.execute_reply.started": "2022-04-27T19:29:20.611705Z"
    },
    "papermill": {
     "duration": 0.049403,
     "end_time": "2022-04-27T19:42:04.454777",
     "exception": false,
     "start_time": "2022-04-27T19:42:04.405374",
     "status": "completed"
    },
    "tags": []
   },
   "outputs": [],
   "source": [
    "import random\n",
    "SEED = 0\n",
    "random.seed(SEED)\n",
    "np.random.seed(SEED)\n",
    "tf.random.set_seed(SEED)"
   ]
  },
  {
   "cell_type": "markdown",
   "id": "1fe8cb4d",
   "metadata": {
    "id": "a4vpTFrKAfG-",
    "papermill": {
     "duration": 0.042518,
     "end_time": "2022-04-27T19:42:04.539610",
     "exception": false,
     "start_time": "2022-04-27T19:42:04.497092",
     "status": "completed"
    },
    "tags": []
   },
   "source": [
    "### <font color=\"#CA3532\">Datos del problema</font>\n",
    "\n",
    "El problema consiste en predecir si va a haber una erupción solar (*solar flares*) en ciertas regiones solares en función de las características de la región solar. El conjunto datos y la caracterización de sus atributos puede encontrarse en https://www.openml.org/d/40702. El siguiente fragmento de código permite cargar estos datos."
   ]
  },
  {
   "cell_type": "code",
   "execution_count": 4,
   "id": "4f8882aa",
   "metadata": {
    "execution": {
     "iopub.execute_input": "2022-04-27T19:42:04.628972Z",
     "iopub.status.busy": "2022-04-27T19:42:04.628213Z",
     "iopub.status.idle": "2022-04-27T19:42:06.719483Z",
     "shell.execute_reply": "2022-04-27T19:42:06.718446Z",
     "shell.execute_reply.started": "2022-04-27T19:29:20.619331Z"
    },
    "id": "nH2J34Gfbv_C",
    "papermill": {
     "duration": 2.137598,
     "end_time": "2022-04-27T19:42:06.719617",
     "exception": false,
     "start_time": "2022-04-27T19:42:04.582019",
     "status": "completed"
    },
    "tags": []
   },
   "outputs": [],
   "source": [
    "dataset_url = 'https://www.openml.org/data/get_csv/4965303/flare.arff' \n",
    "\n",
    "dataset = np.genfromtxt(dataset_url, delimiter=',', skip_header=1)\n",
    "\n",
    "### -------------------------------------------------------------------------------\n",
    "### Dividid los ejemplos en atributos y clases. Guardad el número de atributos.\n",
    "### -------------------------------------------------------------------------------\n",
    "\n",
    "x = dataset[:,:-1]\n",
    "x_size = x.shape[1]\n",
    "y = dataset[:,-1]"
   ]
  },
  {
   "cell_type": "code",
   "execution_count": 5,
   "id": "4c661f83",
   "metadata": {
    "execution": {
     "iopub.execute_input": "2022-04-27T19:42:06.812476Z",
     "iopub.status.busy": "2022-04-27T19:42:06.810977Z",
     "iopub.status.idle": "2022-04-27T19:42:06.815079Z",
     "shell.execute_reply": "2022-04-27T19:42:06.815673Z",
     "shell.execute_reply.started": "2022-04-27T19:29:23.270239Z"
    },
    "id": "6bhpFdYNCVKk",
    "papermill": {
     "duration": 0.053177,
     "end_time": "2022-04-27T19:42:06.815852",
     "exception": false,
     "start_time": "2022-04-27T19:42:06.762675",
     "status": "completed"
    },
    "tags": []
   },
   "outputs": [
    {
     "name": "stdout",
     "output_type": "stream",
     "text": [
      "Ejemplo 0: [5. 4. 3. 1. 3. 1. 1. 2. 1. 1.] 0.0\n",
      "Atributos: 10\n",
      "Clases: [0. 1.]\n",
      "Recuento de clases: 884 182\n",
      "Examplos: 1066\n"
     ]
    }
   ],
   "source": [
    "# Resultados de la división y el número de atributos\n",
    "\n",
    "print('Ejemplo 0:', x[0], y[1])\n",
    "print('Atributos:', x_size)\n",
    "print('Clases:', np.unique(y))\n",
    "print('Recuento de clases:', y.tolist().count(0), y.tolist().count(1))\n",
    "print('Examplos:', len(x))"
   ]
  },
  {
   "cell_type": "code",
   "execution_count": 6,
   "id": "c1b1aec3",
   "metadata": {
    "execution": {
     "iopub.execute_input": "2022-04-27T19:42:06.915968Z",
     "iopub.status.busy": "2022-04-27T19:42:06.915402Z",
     "iopub.status.idle": "2022-04-27T19:42:08.988259Z",
     "shell.execute_reply": "2022-04-27T19:42:08.990039Z",
     "shell.execute_reply.started": "2022-04-27T19:29:23.279742Z"
    },
    "id": "5oBLBAWR7N92",
    "papermill": {
     "duration": 2.128647,
     "end_time": "2022-04-27T19:42:08.990299",
     "exception": false,
     "start_time": "2022-04-27T19:42:06.861652",
     "status": "completed"
    },
    "tags": []
   },
   "outputs": [
    {
     "data": {
      "image/png": "[encoded data removed]",
      "text/plain": [
       "<Figure size 432x288 with 12 Axes>"
      ]
     },
     "metadata": {
      "needs_background": "light"
     },
     "output_type": "display_data"
    }
   ],
   "source": [
    "# create pairwise scatter plots of numeric input variables\n",
    "from pandas import read_csv\n",
    "from pandas import DataFrame\n",
    "from pandas.plotting import scatter_matrix\n",
    "from matplotlib import pyplot\n",
    "\n",
    "# load the csv file as a data frame\n",
    "df = read_csv(dataset_url, header=1)\n",
    "\n",
    "# histograms of all variables \n",
    "df.hist()\n",
    "pyplot.show()"
   ]
  },
  {
   "cell_type": "markdown",
   "id": "2a3b30ff",
   "metadata": {},
   "source": [
    "La visualización de los histogramas no es la óptima. Sin embargo, se puede encontrar un estudio de los datos similar en la página web de la que se ha obtenido el dataset.\n",
    "Lo primero que llama la atención es el desbalanceo entre el número de muestras de la clase a predecir, habiendo 884 de la clase 0 y únicamente 182 de la clase 1.\n",
    "Esto será crucial a la hora de considerar cómo entrenar los datos.\n",
    "\n",
    "En lo que respecta a los atributos de entrada, observamos que hay variables de entrada con comportamientos muy diferentes. Algunas muestran gran variabilidad entre distintos valores mientras que otras son prácticamente constantes. "
   ]
  },
  {
   "cell_type": "markdown",
   "id": "fd402775",
   "metadata": {
    "id": "QKjVzq5PFAa5",
    "papermill": {
     "duration": 0.044061,
     "end_time": "2022-04-27T19:42:09.080309",
     "exception": false,
     "start_time": "2022-04-27T19:42:09.036248",
     "status": "completed"
    },
    "tags": []
   },
   "source": [
    "### <font color=\"#CA3532\">Definición del modelo</font>\n",
    "\n",
    "- Cada capa del modelo lleva definidas una serie de propiedades (tamaño, función de activación, conectividad, etc.). \n",
    "\n",
    "- Usaremos el modelo secuencial que Keras para crear una red neuronal multicapa con propagación hacia adelante.\n",
    "\n"
   ]
  },
  {
   "cell_type": "code",
   "execution_count": 7,
   "id": "0331b5eb",
   "metadata": {
    "execution": {
     "iopub.execute_input": "2022-04-27T19:42:09.172920Z",
     "iopub.status.busy": "2022-04-27T19:42:09.172105Z",
     "iopub.status.idle": "2022-04-27T19:42:11.597856Z",
     "shell.execute_reply": "2022-04-27T19:42:11.597380Z",
     "shell.execute_reply.started": "2022-04-27T19:29:25.329838Z"
    },
    "id": "jSiN2kBpfJH2",
    "papermill": {
     "duration": 2.47387,
     "end_time": "2022-04-27T19:42:11.597986",
     "exception": false,
     "start_time": "2022-04-27T19:42:09.124116",
     "status": "completed"
    },
    "tags": []
   },
   "outputs": [
    {
     "name": "stderr",
     "output_type": "stream",
     "text": [
      "2022-04-27 19:42:09.260260: I tensorflow/stream_executor/cuda/cuda_gpu_executor.cc:937] successful NUMA node read from SysFS had negative value (-1), but there must be at least one NUMA node, so returning NUMA node zero\n",
      "2022-04-27 19:42:09.352298: I tensorflow/stream_executor/cuda/cuda_gpu_executor.cc:937] successful NUMA node read from SysFS had negative value (-1), but there must be at least one NUMA node, so returning NUMA node zero\n",
      "2022-04-27 19:42:09.353252: I tensorflow/stream_executor/cuda/cuda_gpu_executor.cc:937] successful NUMA node read from SysFS had negative value (-1), but there must be at least one NUMA node, so returning NUMA node zero\n",
      "2022-04-27 19:42:09.354449: I tensorflow/core/platform/cpu_feature_guard.cc:142] This TensorFlow binary is optimized with oneAPI Deep Neural Network Library (oneDNN) to use the following CPU instructions in performance-critical operations:  AVX2 AVX512F FMA\n",
      "To enable them in other operations, rebuild TensorFlow with the appropriate compiler flags.\n",
      "2022-04-27 19:42:09.355505: I tensorflow/stream_executor/cuda/cuda_gpu_executor.cc:937] successful NUMA node read from SysFS had negative value (-1), but there must be at least one NUMA node, so returning NUMA node zero\n",
      "2022-04-27 19:42:09.356195: I tensorflow/stream_executor/cuda/cuda_gpu_executor.cc:937] successful NUMA node read from SysFS had negative value (-1), but there must be at least one NUMA node, so returning NUMA node zero\n",
      "2022-04-27 19:42:09.356864: I tensorflow/stream_executor/cuda/cuda_gpu_executor.cc:937] successful NUMA node read from SysFS had negative value (-1), but there must be at least one NUMA node, so returning NUMA node zero\n",
      "2022-04-27 19:42:11.271652: I tensorflow/stream_executor/cuda/cuda_gpu_executor.cc:937] successful NUMA node read from SysFS had negative value (-1), but there must be at least one NUMA node, so returning NUMA node zero\n",
      "2022-04-27 19:42:11.272533: I tensorflow/stream_executor/cuda/cuda_gpu_executor.cc:937] successful NUMA node read from SysFS had negative value (-1), but there must be at least one NUMA node, so returning NUMA node zero\n",
      "2022-04-27 19:42:11.273237: I tensorflow/stream_executor/cuda/cuda_gpu_executor.cc:937] successful NUMA node read from SysFS had negative value (-1), but there must be at least one NUMA node, so returning NUMA node zero\n",
      "2022-04-27 19:42:11.273883: I tensorflow/core/common_runtime/gpu/gpu_device.cc:1510] Created device /job:localhost/replica:0/task:0/device:GPU:0 with 15403 MB memory:  -> device: 0, name: Tesla P100-PCIE-16GB, pci bus id: 0000:00:04.0, compute capability: 6.0\n"
     ]
    }
   ],
   "source": [
    "# Definid el modelo con Keras\n",
    "\n",
    "nn = Sequential()\n",
    "\n",
    "### -------------------------------------------------------------------------------\n",
    "### Añadir la capas completamente conectadas que consideréis al modelo\n",
    "### -------------------------------------------------------------------------------\n",
    "\n",
    "# Decidimos no añadir más capas para este estudio inicial porque gran parte de los problemas no lineales se pueden resolver con una sola\n",
    "# capa oculta y consideramos que no conviene empezar con un modelo excesivamente complejo\n",
    "\n",
    "nn.add(Dense(x_size, activation=\"sigmoid\"))\n",
    "nn.add(Dense(1, activation=\"sigmoid\"))\n"
   ]
  },
  {
   "cell_type": "markdown",
   "id": "f7dfdbd5",
   "metadata": {
    "id": "XYS0uGZZjLqA",
    "papermill": {
     "duration": 0.043556,
     "end_time": "2022-04-27T19:42:11.685933",
     "exception": false,
     "start_time": "2022-04-27T19:42:11.642377",
     "status": "completed"
    },
    "tags": []
   },
   "source": [
    "### <font color=\"#CA3532\">Compilación de la red neuronal</font>\n",
    "\n",
    "- La compilación es la operación que contruye la red neuronal.\n",
    "\n",
    "- La compilación incluye aspectos que se tendrán en cuenta en el entrenamiento de la red neuronal.\n",
    "\n",
    "- En la secciones de abajo encontraréis enlaces a la documentación oficial donde podréis encontrar información sobre las distintas estrategias de cada uno de los aspectos.\n",
    "\n",
    "- También es posible definid vuestras propias funciones.\n",
    "\n",
    "#### <font color=\"#CA3532\">Optimizador</font>\n",
    "\n",
    "El optimizador es la estrategia para calcular las correcciones de los pesos.\n",
    "\n",
    "https://keras.io/api/optimizers/\n",
    "\n",
    "\n",
    "#### <font color=\"#CA3532\"> Función de error (*Loss function*)</font>\n",
    "\n",
    "La función de error calcula la cantidad que el modelo debe minimizar durante el entrenamiento.\n",
    "\n",
    "https://keras.io/api/losses/\n",
    "\n",
    "#### <font color=\"#CA3532\">Métricas</font>\n",
    "\n",
    "Una métrica es una función que juzga la actuación del modelo. Son funciones similares a las funciones de error pero, a diferencia de estas, no se aplican durante el entrenamiento, sino sobre los resultados. Aprende al menos el significado y las diferencias de las métricas *accuracy*, *precision*, *recall* y *AUC*. También pueden usarse las funciones de error como metricas.\n",
    "\n",
    "https://keras.io/api/metrics/"
   ]
  },
  {
   "cell_type": "markdown",
   "id": "5e5c9c68",
   "metadata": {
    "papermill": {
     "duration": 0.043874,
     "end_time": "2022-04-27T19:42:11.868898",
     "exception": false,
     "start_time": "2022-04-27T19:42:11.825024",
     "status": "completed"
    },
    "tags": []
   },
   "source": [
    "Hemos añadido el `f1-score` a las métricas, ya que nos permitirá evaluar el rendimiento del modelo teniendo en cuenta el desbalanceo de las clases.\n",
    "\n",
    "Cabe mencionar que el `f1-score` es la media armónica de la `precision` y del `recall`, por lo que es una forma de tener en cuenta simultáneamente la tasa de aciertos en la clase positiva sobre los aciertos totales (`precision`) y la tasa de aciertos cuando se predice que una muestra es positiva (`recall`). En la siguiente imagen vemos un resumen de ambas métricas:\n",
    "\n",
    "![](https://upload.wikimedia.org/wikipedia/commons/thumb/2/26/Precisionrecall.svg/525px-Precisionrecall.svg.png)\n",
    "\n",
    "Por ello, el `f1-score` nos da información sobre el rendimiento en la clase positiva relativo al rendimiento general y a la proporción de predicciones positivas. Gracias a esto, es una métrica sensible al desbalanceo de clases.\n",
    "\n",
    "Por otro lado, como hemos mencionado, esta métrica evalúa el rendimiento específico de la clase positiva. En nuestro caso, consideramos que esto es lo deseado al ser un problema de clasificación binaria dónde queremos que el modelo tenga el mejor rendimiento posible prediciendo cuándo va a suceder una erupción solar (que además es la clase menos representada). Si el problema fuera multiclase, podríamos (y deberíamos) combinar los `f1-score`'s correspondientes a través de medias simples (*macro*) o ponderadas (*weighted*)."
   ]
  },
  {
   "cell_type": "code",
   "execution_count": 8,
   "id": "09507a36",
   "metadata": {
    "execution": {
     "iopub.execute_input": "2022-04-27T19:42:11.967288Z",
     "iopub.status.busy": "2022-04-27T19:42:11.966612Z",
     "iopub.status.idle": "2022-04-27T19:42:12.031761Z",
     "shell.execute_reply": "2022-04-27T19:42:12.032184Z",
     "shell.execute_reply.started": "2022-04-27T19:29:27.790688Z"
    },
    "id": "tU7t0cyMf-pL",
    "papermill": {
     "duration": 0.12005,
     "end_time": "2022-04-27T19:42:12.032319",
     "exception": false,
     "start_time": "2022-04-27T19:42:11.912269",
     "status": "completed"
    },
    "tags": []
   },
   "outputs": [],
   "source": [
    "# Compilación\n",
    "\n",
    "### -------------------------------------------------------------------------------\n",
    "### Compilad vuestro modelo de red neuronal\n",
    "### -------------------------------------------------------------------------------\n",
    "\n",
    "metrics = [\n",
    "            #keras.metrics.TruePositives(name='tp'),\n",
    "            #keras.metrics.FalsePositives(name='fp'),\n",
    "            #keras.metrics.TrueNegatives(name='tn'),\n",
    "            #keras.metrics.FalseNegatives(name='fn'),\n",
    "            keras.metrics.BinaryAccuracy(name='ACC'),\n",
    "            keras.metrics.Precision(name='Prec'),\n",
    "            keras.metrics.Recall(name='Rec'),\n",
    "            keras.metrics.AUC(name='AUC'),\n",
    "            keras.metrics.AUC(name='PRC', curve='PR'),\n",
    "            tfa.metrics.F1Score(num_classes=1, threshold=0.5, name='f1_score')  # f1-score no está disponible en keras\n",
    "          ]\n",
    "\n",
    "# Utilizamos como función de pérdidas la de entropía cruzada, función habitual para los problemas de clasificación\n",
    "# También optamos por usar Adam como optimizador en lugar de SGD para estos experimentos iniciales debido a que Adam suele converger más rápidamente a la hora de entrenar\n",
    "nn.compile(optimizer='Adam', loss=\"binary_crossentropy\", metrics=metrics)\n",
    "\n",
    "nn.build((None, x_size))\n",
    "initial_weights = nn.get_weights() # Nos guardamos los pesos iniciales para usar los mismos en todos los experimentos"
   ]
  },
  {
   "cell_type": "markdown",
   "id": "671b3982",
   "metadata": {
    "papermill": {
     "duration": 0.043223,
     "end_time": "2022-04-27T19:42:12.119325",
     "exception": false,
     "start_time": "2022-04-27T19:42:12.076102",
     "status": "completed"
    },
    "tags": []
   },
   "source": [
    "Como muestra la última línea de código de la celda anterior, nos guardamos los pesos iniciales. Estos son generados al crear el modelo, y si no se resetean explícitamente, sucesivas llamadas a `fit` partirán de los pesos entrenados por la llamada anterior (véase este [enlace](https://stackoverflow.com/questions/48599464/does-calling-the-model-fit-method-again-reinitialize-the-already-trained-weights)). Esto haría que los experimentos fueran cada vez mejores (al menos en entrenamiento) sin que eso signifique una mejora real."
   ]
  },
  {
   "cell_type": "markdown",
   "id": "bfae9cd1",
   "metadata": {
    "id": "7dRac4W1t69B",
    "papermill": {
     "duration": 0.043212,
     "end_time": "2022-04-27T19:42:12.205978",
     "exception": false,
     "start_time": "2022-04-27T19:42:12.162766",
     "status": "completed"
    },
    "tags": []
   },
   "source": [
    "### <font color=\"#CA3532\">Conjuntos de entrenamiento y validación</font>\n",
    "\n",
    "Usaremos el 80 % de los datos para entrenamiento y el 20 % para validación. Usaremos también la técnica de muestreo estratificado (también están permitidas otras formas de validación)."
   ]
  },
  {
   "cell_type": "markdown",
   "id": "5fd93b95",
   "metadata": {
    "papermill": {
     "duration": 0.043144,
     "end_time": "2022-04-27T19:42:12.292721",
     "exception": false,
     "start_time": "2022-04-27T19:42:12.249577",
     "status": "completed"
    },
    "tags": []
   },
   "source": [
    "Al estratificar por `y`, aseguramos que la distribución de la muestra de entrenamiento y de validación contengan una proporción de clases similar a la original.\n",
    "De esta manera, se evita que el desbalanceo de los datos provoque que gran parte de las muestras de la clase minoritaria de `y` acaben en uno de los dos conjuntos (entrenamiento y validación).\n",
    "Si esto sucediese, el entrenamiento podría dejar de ser efectivo. Por ello, es importante realizar la estratificación."
   ]
  },
  {
   "cell_type": "code",
   "execution_count": 9,
   "id": "65e8709f",
   "metadata": {
    "execution": {
     "iopub.execute_input": "2022-04-27T19:42:12.384578Z",
     "iopub.status.busy": "2022-04-27T19:42:12.383977Z",
     "iopub.status.idle": "2022-04-27T19:42:12.947956Z",
     "shell.execute_reply": "2022-04-27T19:42:12.946808Z",
     "shell.execute_reply.started": "2022-04-27T19:29:27.867261Z"
    },
    "id": "QA3AW4y7j_Ar",
    "papermill": {
     "duration": 0.611568,
     "end_time": "2022-04-27T19:42:12.948098",
     "exception": false,
     "start_time": "2022-04-27T19:42:12.336530",
     "status": "completed"
    },
    "tags": []
   },
   "outputs": [],
   "source": [
    "# Contrucción de los conjuntos de entrenamiento y validación\n",
    "\n",
    "from sklearn.model_selection import train_test_split\n",
    "\n",
    "x_train, x_val, y_train, y_val = train_test_split(x, y, stratify=y, test_size=0.2, random_state=SEED)  # Fijamos la seed"
   ]
  },
  {
   "cell_type": "markdown",
   "id": "eb039808",
   "metadata": {
    "id": "dDFUBCUVugVj",
    "papermill": {
     "duration": 0.044192,
     "end_time": "2022-04-27T19:42:13.040742",
     "exception": false,
     "start_time": "2022-04-27T19:42:12.996550",
     "status": "completed"
    },
    "tags": []
   },
   "source": [
    "### <font color=\"#CA3532\">Visualización de resultados</font>\n",
    "\n",
    "Para la visualización de los resultados utilizaremos gráficas con la evolución de la función de pérdida y las métricas en cada época del entrenamiento, tanto para los datos de entrenamiento como para los de validación.\n",
    "\n",
    "También obtendremos la matriz de confusión y alguna métricas sobre cada clase del problema. Observaremos especialmente la medida macro-F1."
   ]
  },
  {
   "cell_type": "code",
   "execution_count": 10,
   "id": "66ae1501",
   "metadata": {
    "execution": {
     "iopub.execute_input": "2022-04-27T19:42:13.135165Z",
     "iopub.status.busy": "2022-04-27T19:42:13.133626Z",
     "iopub.status.idle": "2022-04-27T19:42:13.135789Z",
     "shell.execute_reply": "2022-04-27T19:42:13.136204Z",
     "shell.execute_reply.started": "2022-04-27T19:29:28.421530Z"
    },
    "id": "6pgKzRcysRwv",
    "papermill": {
     "duration": 0.052219,
     "end_time": "2022-04-27T19:42:13.136332",
     "exception": false,
     "start_time": "2022-04-27T19:42:13.084113",
     "status": "completed"
    },
    "tags": []
   },
   "outputs": [],
   "source": [
    "from sklearn.metrics import classification_report, confusion_matrix\n",
    "\n",
    "def show_metrics(history):\n",
    "    for metric in history.history.keys():\n",
    "        if not metric.startswith('val_'):\n",
    "            plt.plot(history.history[metric], label=metric)\n",
    "            plt.plot(history.history[f'val_{metric}'], label=f'val_{metric}')\n",
    "            plt.title(metric)\n",
    "            plt.ylabel('')\n",
    "            plt.xlabel('Epoch')\n",
    "            plt.legend(loc=\"upper left\")\n",
    "            plt.show()"
   ]
  },
  {
   "cell_type": "markdown",
   "id": "485165fc",
   "metadata": {
    "id": "x-rNfZzqINgY",
    "papermill": {
     "duration": 0.044279,
     "end_time": "2022-04-27T19:42:13.224042",
     "exception": false,
     "start_time": "2022-04-27T19:42:13.179763",
     "status": "completed"
    },
    "tags": []
   },
   "source": [
    "### <font color=\"#CA3532\">Entrenamiento de la red neuronal y evaluación</font>\n",
    "\n",
    "El método \"fit\" entrena una red neuronal con los datos que se le proporcionen.\n",
    "\n",
    "https://keras.io/api/models/model_training_apis/#fit-method"
   ]
  },
  {
   "cell_type": "code",
   "execution_count": 11,
   "id": "526a677d",
   "metadata": {
    "execution": {
     "iopub.execute_input": "2022-04-27T19:42:13.317942Z",
     "iopub.status.busy": "2022-04-27T19:42:13.317169Z",
     "iopub.status.idle": "2022-04-27T19:42:34.474325Z",
     "shell.execute_reply": "2022-04-27T19:42:34.473695Z",
     "shell.execute_reply.started": "2022-04-27T19:29:28.429258Z"
    },
    "id": "iEhDqXzLIISj",
    "papermill": {
     "duration": 21.206724,
     "end_time": "2022-04-27T19:42:34.474494",
     "exception": false,
     "start_time": "2022-04-27T19:42:13.267770",
     "status": "completed"
    },
    "tags": []
   },
   "outputs": [
    {
     "name": "stderr",
     "output_type": "stream",
     "text": [
      "2022-04-27 19:42:13.547394: I tensorflow/compiler/mlir/mlir_graph_optimization_pass.cc:185] None of the MLIR Optimization Passes are enabled (registered 2)\n"
     ]
    },
    {
     "name": "stdout",
     "output_type": "stream",
     "text": [
      "Model: \"sequential\"\n",
      "_________________________________________________________________\n",
      "Layer (type)                 Output Shape              Param #   \n",
      "=================================================================\n",
      "dense (Dense)                (None, 10)                110       \n",
      "_________________________________________________________________\n",
      "dense_1 (Dense)              (None, 1)                 11        \n",
      "=================================================================\n",
      "Total params: 121\n",
      "Trainable params: 121\n",
      "Non-trainable params: 0\n",
      "_________________________________________________________________\n",
      "\n",
      "\n",
      "\n"
     ]
    },
    {
     "data": {
      "image/png": "[encoded data removed]",
      "text/plain": [
       "<Figure size 432x288 with 1 Axes>"
      ]
     },
     "metadata": {
      "needs_background": "light"
     },
     "output_type": "display_data"
    },
    {
     "data": {
      "image/png": "[encoded data removed]",
      "text/plain": [
       "<Figure size 432x288 with 1 Axes>"
      ]
     },
     "metadata": {
      "needs_background": "light"
     },
     "output_type": "display_data"
    },
    {
     "data": {
      "image/png": "[encoded data removed]",
      "text/plain": [
       "<Figure size 432x288 with 1 Axes>"
      ]
     },
     "metadata": {
      "needs_background": "light"
     },
     "output_type": "display_data"
    },
    {
     "data": {
      "image/png": "[encoded data removed]",
      "text/plain": [
       "<Figure size 432x288 with 1 Axes>"
      ]
     },
     "metadata": {
      "needs_background": "light"
     },
     "output_type": "display_data"
    },
    {
     "data": {
      "image/png": "[encoded data removed]",
      "text/plain": [
       "<Figure size 432x288 with 1 Axes>"
      ]
     },
     "metadata": {
      "needs_background": "light"
     },
     "output_type": "display_data"
    },
    {
     "data": {
      "image/png": "[encoded data removed]",
      "text/plain": [
       "<Figure size 432x288 with 1 Axes>"
      ]
     },
     "metadata": {
      "needs_background": "light"
     },
     "output_type": "display_data"
    },
    {
     "data": {
      "image/png": "[encoded data removed]",
      "text/plain": [
       "<Figure size 432x288 with 1 Axes>"
      ]
     },
     "metadata": {
      "needs_background": "light"
     },
     "output_type": "display_data"
    },
    {
     "name": "stdout",
     "output_type": "stream",
     "text": [
      "[[174   3]\n",
      " [ 34   3]]\n",
      "              precision    recall  f1-score   support\n",
      "\n",
      "         0.0       0.84      0.98      0.90       177\n",
      "         1.0       0.50      0.08      0.14        37\n",
      "\n",
      "    accuracy                           0.83       214\n",
      "   macro avg       0.67      0.53      0.52       214\n",
      "weighted avg       0.78      0.83      0.77       214\n",
      "\n"
     ]
    }
   ],
   "source": [
    "# Entrenamiento\n",
    "\n",
    "epochs = 100\n",
    "\n",
    "history = nn.fit(x_train, y_train, epochs=epochs, verbose=0, validation_data=(x_val, y_val))\n",
    "\n",
    "# Predicciones del conjunto de evaluación\n",
    "\n",
    "y_pred = nn.predict(x_val)\n",
    "y_pred = y_pred > 0.5\n",
    "\n",
    "# Detalles de la red neuronal\n",
    "\n",
    "nn.summary()\n",
    "print('\\n\\n')\n",
    "\n",
    "# Visualización de las métricas \n",
    "\n",
    "show_metrics(history)\n",
    "\n",
    "# Matriz de confusión\n",
    "\n",
    "print(confusion_matrix(y_val, y_pred))\n",
    "\n",
    "# Observa la medida macro-f1 del siguiente informe\n",
    "\n",
    "print(classification_report(y_val, y_pred, zero_division=0))\n"
   ]
  },
  {
   "cell_type": "markdown",
   "id": "7d3ee785",
   "metadata": {
    "id": "zo8KQlCaGEw9",
    "papermill": {
     "duration": 0.055252,
     "end_time": "2022-04-27T19:42:34.581652",
     "exception": false,
     "start_time": "2022-04-27T19:42:34.526400",
     "status": "completed"
    },
    "tags": []
   },
   "source": [
    "### <font color=\"#CA3532\">Entrenamiento de la red neuronal y evaluación</font>\n",
    "Como podrás haber observado en problema no está balanceado (o está bastante desequilibrado), porque el número de ejemplos de cada clase es muy diferente."
   ]
  },
  {
   "cell_type": "markdown",
   "id": "de9a19af",
   "metadata": {
    "id": "amDlvLOgHw2J",
    "papermill": {
     "duration": 0.055857,
     "end_time": "2022-04-27T19:42:34.693809",
     "exception": false,
     "start_time": "2022-04-27T19:42:34.637952",
     "status": "completed"
    },
    "tags": []
   },
   "source": [
    "Existen varias técnicas para abortar este tipo de problemas. Una de ellas consiste seleccionar un subconjunto de datos equilibrados en el que las dos clases esten representadas en la misma proporción.\n"
   ]
  },
  {
   "cell_type": "code",
   "execution_count": 12,
   "id": "be59fbb9",
   "metadata": {
    "execution": {
     "iopub.execute_input": "2022-04-27T19:42:34.809356Z",
     "iopub.status.busy": "2022-04-27T19:42:34.808121Z",
     "iopub.status.idle": "2022-04-27T19:42:34.810951Z",
     "shell.execute_reply": "2022-04-27T19:42:34.810500Z",
     "shell.execute_reply.started": "2022-04-27T19:29:48.941557Z"
    },
    "id": "rhdYlNseGFh0",
    "papermill": {
     "duration": 0.06346,
     "end_time": "2022-04-27T19:42:34.811071",
     "exception": false,
     "start_time": "2022-04-27T19:42:34.747611",
     "status": "completed"
    },
    "tags": []
   },
   "outputs": [],
   "source": [
    "### -------------------------------------------------------------------------------\n",
    "### Asigna diferentes pesos a cada una de las clases\n",
    "### -------------------------------------------------------------------------------\n",
    "\n",
    "n_clase_1 = np.count_nonzero(y == 1)\n",
    "train_index_clase_0 = (y_train == 0).nonzero()[0]\n",
    "val_index_clase_0 = (y_val == 0).nonzero()[0]\n",
    "\n",
    "# Obtenemos los índices de la clase 0 a eliminar en entrenamiento y validación\n",
    "# Para ello, dado que queremos quedarnos con N_CLASE_1 elementos, seleccionamos tantos índices como TOTAL - N_CLASE_1;\n",
    "# teniendo en cuenta que el 80% está en entrenamiento y el 20% en validación\n",
    "train_index_to_remove = np.random.choice(train_index_clase_0, np.count_nonzero(y_train == 0) - int(n_clase_1*0.8), replace=False)\n",
    "val_index_to_remove = np.random.choice(val_index_clase_0, np.count_nonzero(y_val == 0) - int(n_clase_1*0.2), replace=False)\n",
    "\n",
    "x_train_balanceado = np.delete(x_train, train_index_to_remove, axis=0)\n",
    "y_train_balanceado = np.delete(y_train, train_index_to_remove)\n",
    "\n",
    "x_val_balanceado = np.delete(x_val, val_index_to_remove, axis=0)\n",
    "y_val_balanceado = np.delete(y_val, val_index_to_remove)"
   ]
  },
  {
   "cell_type": "markdown",
   "id": "9325161b",
   "metadata": {
    "id": "WFXPn9gEIqCa",
    "papermill": {
     "duration": 0.049576,
     "end_time": "2022-04-27T19:42:34.911365",
     "exception": false,
     "start_time": "2022-04-27T19:42:34.861789",
     "status": "completed"
    },
    "tags": []
   },
   "source": [
    "Vuelve a entrenar con este nuevo conjunto de datos y observa como varía el resultado de la matriz de confusión. Si es posible, intenta conseguir un modelo mejor y describe los resultados alcanzados."
   ]
  },
  {
   "cell_type": "code",
   "execution_count": 13,
   "id": "c370a674",
   "metadata": {
    "execution": {
     "iopub.execute_input": "2022-04-27T19:42:35.019391Z",
     "iopub.status.busy": "2022-04-27T19:42:35.018868Z",
     "iopub.status.idle": "2022-04-27T19:42:45.331319Z",
     "shell.execute_reply": "2022-04-27T19:42:45.331832Z",
     "shell.execute_reply.started": "2022-04-27T19:29:48.952514Z"
    },
    "id": "q6Q365wEIhQg",
    "papermill": {
     "duration": 10.370645,
     "end_time": "2022-04-27T19:42:45.332038",
     "exception": false,
     "start_time": "2022-04-27T19:42:34.961393",
     "status": "completed"
    },
    "tags": []
   },
   "outputs": [
    {
     "name": "stdout",
     "output_type": "stream",
     "text": [
      "Model: \"sequential\"\n",
      "_________________________________________________________________\n",
      "Layer (type)                 Output Shape              Param #   \n",
      "=================================================================\n",
      "dense (Dense)                (None, 10)                110       \n",
      "_________________________________________________________________\n",
      "dense_1 (Dense)              (None, 1)                 11        \n",
      "=================================================================\n",
      "Total params: 121\n",
      "Trainable params: 121\n",
      "Non-trainable params: 0\n",
      "_________________________________________________________________\n",
      "\n",
      "\n",
      "\n",
      "              precision    recall  f1-score   support\n",
      "\n",
      "         0.0       0.76      0.69      0.72        36\n",
      "         1.0       0.72      0.78      0.75        37\n",
      "\n",
      "    accuracy                           0.74        73\n",
      "   macro avg       0.74      0.74      0.74        73\n",
      "weighted avg       0.74      0.74      0.74        73\n",
      "\n",
      "[[25 11]\n",
      " [ 8 29]]\n"
     ]
    }
   ],
   "source": [
    "nn.set_weights(initial_weights) # Reseteamos los pesos para no empezar el entrenamiento con pesos ya previamente entrenados\n",
    "history = nn.fit(x_train_balanceado, y_train_balanceado, epochs=epochs, verbose=0, validation_data=(x_val_balanceado, y_val_balanceado))\n",
    "\n",
    "# Detalles de la red neuronal\n",
    "\n",
    "nn.summary()\n",
    "print('\\n\\n')\n",
    "\n",
    "y_pred = nn.predict(x_val_balanceado)\n",
    "y_pred = y_pred > 0.5\n",
    "\n",
    "print(classification_report(y_val_balanceado, y_pred, zero_division=0))\n",
    "\n",
    "print(confusion_matrix(y_val_balanceado, y_pred))"
   ]
  },
  {
   "cell_type": "markdown",
   "id": "173507d4",
   "metadata": {
    "papermill": {
     "duration": 0.050892,
     "end_time": "2022-04-27T19:42:45.433592",
     "exception": false,
     "start_time": "2022-04-27T19:42:45.382700",
     "status": "completed"
    },
    "tags": []
   },
   "source": [
    "Observamos como el rendimiento entre clases es mucho más estable que antes. Sin embargo, estamos desperdiciando muchos datos útiles de la clase 0"
   ]
  },
  {
   "cell_type": "markdown",
   "id": "c86ed4db",
   "metadata": {
    "id": "UCtSYvuRvpBy",
    "papermill": {
     "duration": 0.051628,
     "end_time": "2022-04-27T19:42:45.536306",
     "exception": false,
     "start_time": "2022-04-27T19:42:45.484678",
     "status": "completed"
    },
    "tags": []
   },
   "source": [
    "Otra técnica consiste en asignar un peso a cada clase para que lo tenga en cuenta en algoritmo de entrenamiento.\n",
    "Aprende lo que hace el parámetro ```class_weight``` de ```fit``` (https://keras.io/api/models/model_training_apis/#fit-method) y explícalo."
   ]
  },
  {
   "cell_type": "markdown",
   "id": "fa5b023f",
   "metadata": {
    "papermill": {
     "duration": 0.051044,
     "end_time": "2022-04-27T19:42:45.640069",
     "exception": false,
     "start_time": "2022-04-27T19:42:45.589025",
     "status": "completed"
    },
    "tags": []
   },
   "source": [
    "Para no desperdiciar los datos de la clase sobrerrepresentada, `Keras` nos permite proporcionar unos pesos que serán aplicados en la función de pérdidas. Gracias a esto, la función de pérdidas consisitirá en una media ponderada de la pérdida en cada clase, por lo que podremos sobreponderar la clase infrarrepresentada, equilibrando la importancia que el modelo da a cada clase."
   ]
  },
  {
   "cell_type": "code",
   "execution_count": 14,
   "id": "b37f0848",
   "metadata": {
    "execution": {
     "iopub.execute_input": "2022-04-27T19:42:45.747411Z",
     "iopub.status.busy": "2022-04-27T19:42:45.746595Z",
     "iopub.status.idle": "2022-04-27T19:42:45.750594Z",
     "shell.execute_reply": "2022-04-27T19:42:45.751000Z",
     "shell.execute_reply.started": "2022-04-27T19:29:59.285322Z"
    },
    "id": "CJfmolAdkGDY",
    "papermill": {
     "duration": 0.060486,
     "end_time": "2022-04-27T19:42:45.751131",
     "exception": false,
     "start_time": "2022-04-27T19:42:45.690645",
     "status": "completed"
    },
    "tags": []
   },
   "outputs": [
    {
     "name": "stdout",
     "output_type": "stream",
     "text": [
      "{0: 0.6025459688826026, 1: 2.9379310344827587}\n"
     ]
    }
   ],
   "source": [
    "### -------------------------------------------------------------------------------\n",
    "### Assigna diferentes pesos a cada una de las clases\n",
    "### -------------------------------------------------------------------------------\n",
    "\n",
    "from sklearn.utils import class_weight\n",
    "\n",
    "class_weights = class_weight.compute_class_weight('balanced', classes=np.unique(y_train), y=y_train)\n",
    "\n",
    "class_weights = {0: class_weights[0], 1: class_weights[1]}\n",
    "\n",
    "print(class_weights)"
   ]
  },
  {
   "cell_type": "markdown",
   "id": "8af796ff",
   "metadata": {
    "id": "xNJ5dCdTyTBc",
    "papermill": {
     "duration": 0.052269,
     "end_time": "2022-04-27T19:42:45.854516",
     "exception": false,
     "start_time": "2022-04-27T19:42:45.802247",
     "status": "completed"
    },
    "tags": []
   },
   "source": [
    "Vuelve a entrenar considerando distintos pesos y observa como varía el resultado de la matriz de confusión. Si es posible, intenta conseguir un modelo mejor y describe los resultados alcanzados."
   ]
  },
  {
   "cell_type": "code",
   "execution_count": 15,
   "id": "7cb5bb34",
   "metadata": {
    "execution": {
     "iopub.execute_input": "2022-04-27T19:42:45.965425Z",
     "iopub.status.busy": "2022-04-27T19:42:45.964869Z",
     "iopub.status.idle": "2022-04-27T19:43:04.643454Z",
     "shell.execute_reply": "2022-04-27T19:43:04.644086Z",
     "shell.execute_reply.started": "2022-04-27T19:29:59.294523Z"
    },
    "id": "j4hMiyuSkQgK",
    "papermill": {
     "duration": 18.738057,
     "end_time": "2022-04-27T19:43:04.644289",
     "exception": false,
     "start_time": "2022-04-27T19:42:45.906232",
     "status": "completed"
    },
    "tags": []
   },
   "outputs": [
    {
     "name": "stdout",
     "output_type": "stream",
     "text": [
      "Model: \"sequential\"\n",
      "_________________________________________________________________\n",
      "Layer (type)                 Output Shape              Param #   \n",
      "=================================================================\n",
      "dense (Dense)                (None, 10)                110       \n",
      "_________________________________________________________________\n",
      "dense_1 (Dense)              (None, 1)                 11        \n",
      "=================================================================\n",
      "Total params: 121\n",
      "Trainable params: 121\n",
      "Non-trainable params: 0\n",
      "_________________________________________________________________\n",
      "\n",
      "\n",
      "\n",
      "              precision    recall  f1-score   support\n",
      "\n",
      "         0.0       0.95      0.71      0.81       177\n",
      "         1.0       0.37      0.81      0.50        37\n",
      "\n",
      "    accuracy                           0.72       214\n",
      "   macro avg       0.66      0.76      0.66       214\n",
      "weighted avg       0.85      0.72      0.76       214\n",
      "\n",
      "[[125  52]\n",
      " [  7  30]]\n"
     ]
    }
   ],
   "source": [
    "nn.set_weights(initial_weights) # Reseteamos los pesos para no empezar el entrenamiento con pesos ya previamente entrenados\n",
    "history = nn.fit(x_train, y_train, epochs=epochs, verbose=0, class_weight=class_weights, validation_data=(x_val, y_val))\n",
    "\n",
    "# Detalles de la red neuronal\n",
    "\n",
    "nn.summary()\n",
    "print('\\n\\n')\n",
    "\n",
    "y_pred = nn.predict(x_val)\n",
    "y_pred = y_pred > 0.5\n",
    "\n",
    "print(classification_report(y_val, y_pred, zero_division=0))\n",
    "\n",
    "print(confusion_matrix(y_val, y_pred))"
   ]
  },
  {
   "cell_type": "markdown",
   "id": "e237bb72",
   "metadata": {
    "papermill": {
     "duration": 0.051872,
     "end_time": "2022-04-27T19:43:04.750901",
     "exception": false,
     "start_time": "2022-04-27T19:43:04.699029",
     "status": "completed"
    },
    "tags": []
   },
   "source": [
    "Los resultados vuelven a ser superiores. Con respecto a limitar el número de muestras, parece que los resultados son mejores en el primer caso. Sin embargo, consideramos que no se deben apartar en ningún caso datos de entrenamiento, ya que esto prepará al modelo frente a datos desconocidos. Parece entonces que la ponderación de la función de pérdidas es la mejor opción."
   ]
  },
  {
   "cell_type": "markdown",
   "id": "bd10e9f9",
   "metadata": {
    "papermill": {
     "duration": 0.051254,
     "end_time": "2022-04-27T19:43:04.853235",
     "exception": false,
     "start_time": "2022-04-27T19:43:04.801981",
     "status": "completed"
    },
    "tags": []
   },
   "source": [
    "### <font color=\"#CA3532\">Comprobación de la efectividad de la normalización de datos</font>"
   ]
  },
  {
   "cell_type": "markdown",
   "id": "73cd7d04",
   "metadata": {
    "papermill": {
     "duration": 0.050729,
     "end_time": "2022-04-27T19:43:04.955496",
     "exception": false,
     "start_time": "2022-04-27T19:43:04.904767",
     "status": "completed"
    },
    "tags": []
   },
   "source": [
    "A continuación vamos a comprobar si la normalización de los datos de entrada afecta de alguna manera al rendimiento final del modelo"
   ]
  },
  {
   "cell_type": "code",
   "execution_count": 16,
   "id": "30d2740a",
   "metadata": {
    "execution": {
     "iopub.execute_input": "2022-04-27T19:43:05.064104Z",
     "iopub.status.busy": "2022-04-27T19:43:05.063055Z",
     "iopub.status.idle": "2022-04-27T19:43:05.067122Z",
     "shell.execute_reply": "2022-04-27T19:43:05.066654Z",
     "shell.execute_reply.started": "2022-04-27T19:30:18.142635Z"
    },
    "id": "CHMR1k6adBxU",
    "papermill": {
     "duration": 0.061015,
     "end_time": "2022-04-27T19:43:05.067225",
     "exception": false,
     "start_time": "2022-04-27T19:43:05.006210",
     "status": "completed"
    },
    "tags": []
   },
   "outputs": [],
   "source": [
    "# Normalización de los datos (utilizando únicamente la información de entrenamiento para normalizar)\n",
    "\n",
    "from sklearn.preprocessing import StandardScaler\n",
    "scaler = StandardScaler()\n",
    "scaler.fit(x_train)\n",
    "x_train_norm = scaler.transform(x_train)\n",
    "x_val_norm = scaler.transform(x_val)"
   ]
  },
  {
   "cell_type": "markdown",
   "id": "6caf686b",
   "metadata": {},
   "source": [
    "Es importante tener en cuenta que la normalización de los datos de validación debe ser considerando únicamente la información de los datos de entrenamiento.\n",
    "Esto es lógico porque la validación sirve para comprobar si el modelo funciona correctamente con datos nuevos y el modelo y el preprocesado no debe depender de esos datos.\n",
    "Idealmente, esto no debería suponer un problema ya que los datos de entrenamiento deberían ser una muestra representativa de la población en lo referente a su distribución."
   ]
  },
  {
   "cell_type": "code",
   "execution_count": 17,
   "id": "0aad8bd7",
   "metadata": {
    "execution": {
     "iopub.execute_input": "2022-04-27T19:43:05.177802Z",
     "iopub.status.busy": "2022-04-27T19:43:05.176854Z",
     "iopub.status.idle": "2022-04-27T19:43:25.746445Z",
     "shell.execute_reply": "2022-04-27T19:43:25.745906Z",
     "shell.execute_reply.started": "2022-04-27T19:30:18.151491Z"
    },
    "papermill": {
     "duration": 20.628178,
     "end_time": "2022-04-27T19:43:25.746580",
     "exception": false,
     "start_time": "2022-04-27T19:43:05.118402",
     "status": "completed"
    },
    "tags": []
   },
   "outputs": [
    {
     "name": "stdout",
     "output_type": "stream",
     "text": [
      "Model: \"sequential\"\n",
      "_________________________________________________________________\n",
      "Layer (type)                 Output Shape              Param #   \n",
      "=================================================================\n",
      "dense (Dense)                (None, 10)                110       \n",
      "_________________________________________________________________\n",
      "dense_1 (Dense)              (None, 1)                 11        \n",
      "=================================================================\n",
      "Total params: 121\n",
      "Trainable params: 121\n",
      "Non-trainable params: 0\n",
      "_________________________________________________________________\n",
      "\n",
      "\n",
      "\n",
      "              precision    recall  f1-score   support\n",
      "\n",
      "         0.0       0.95      0.71      0.81       177\n",
      "         1.0       0.37      0.81      0.50        37\n",
      "\n",
      "    accuracy                           0.72       214\n",
      "   macro avg       0.66      0.76      0.66       214\n",
      "weighted avg       0.85      0.72      0.76       214\n",
      "\n",
      "[[125  52]\n",
      " [  7  30]]\n"
     ]
    }
   ],
   "source": [
    "nn.set_weights(initial_weights) # Reseteamos los pesos para no empezar el entrenamiento con pesos ya previamente entrenados\n",
    "history = nn.fit(x_train_norm, y_train, epochs=epochs, verbose=0, class_weight=class_weights, validation_data=(x_val_norm, y_val))\n",
    "\n",
    "# Detalles de la red neuronal\n",
    "\n",
    "nn.summary()\n",
    "print('\\n\\n')\n",
    "\n",
    "y_pred = nn.predict(x_val_norm)\n",
    "y_pred = y_pred > 0.5\n",
    "\n",
    "print(classification_report(y_val, y_pred, zero_division=0))\n",
    "\n",
    "print(confusion_matrix(y_val, y_pred))"
   ]
  },
  {
   "cell_type": "markdown",
   "id": "24984e96",
   "metadata": {
    "papermill": {
     "duration": 0.051811,
     "end_time": "2022-04-27T19:43:25.851007",
     "exception": false,
     "start_time": "2022-04-27T19:43:25.799196",
     "status": "completed"
    },
    "tags": []
   },
   "source": [
    "Como los resultados son iguales, concluimos que la normalización no es necesaria."
   ]
  },
  {
   "cell_type": "markdown",
   "id": "8a7601ef",
   "metadata": {
    "id": "Z8E37UJTNqtg",
    "papermill": {
     "duration": 0.052277,
     "end_time": "2022-04-27T19:43:25.955917",
     "exception": false,
     "start_time": "2022-04-27T19:43:25.903640",
     "status": "completed"
    },
    "tags": []
   },
   "source": [
    "### <font color=\"#CA3532\">Optimización del diseño de la red neuronal</font>\n",
    "\n",
    "- Cambiad la arquitectura de la red neuronal introduciendo más capas y neuronas para conseguir mejores resultados:\n",
    " - Añadid más capas o diferente tipo de capas.\n",
    " - Cambiad las funciones de activación.\n",
    " - Cambiad la función de error o el optimizador.\n",
    "\n",
    "- Utilizad ```tuner``` para la búsqueda de estos hiperparámetros (https://keras.io/keras_tuner/).\n"
   ]
  },
  {
   "cell_type": "code",
   "execution_count": 18,
   "id": "dece5101",
   "metadata": {
    "execution": {
     "iopub.execute_input": "2022-04-27T19:43:26.067818Z",
     "iopub.status.busy": "2022-04-27T19:43:26.066922Z",
     "iopub.status.idle": "2022-04-27T19:43:35.928778Z",
     "shell.execute_reply": "2022-04-27T19:43:35.928230Z",
     "shell.execute_reply.started": "2022-04-27T19:40:41.764443Z"
    },
    "id": "i0iByM16ywAk",
    "papermill": {
     "duration": 9.918796,
     "end_time": "2022-04-27T19:43:35.928908",
     "exception": false,
     "start_time": "2022-04-27T19:43:26.010112",
     "status": "completed"
    },
    "tags": []
   },
   "outputs": [
    {
     "name": "stdout",
     "output_type": "stream",
     "text": [
      "Requirement already satisfied: keras-tuner in /opt/conda/lib/python3.7/site-packages (1.1.0)\r\n",
      "Collecting keras-tuner\r\n",
      "  Downloading keras_tuner-1.1.2-py3-none-any.whl (133 kB)\r\n",
      "     |████████████████████████████████| 133 kB 931 kB/s            \r\n",
      "\u001b[?25hRequirement already satisfied: ipython in /opt/conda/lib/python3.7/site-packages (from keras-tuner) (7.30.1)\r\n",
      "Requirement already satisfied: requests in /opt/conda/lib/python3.7/site-packages (from keras-tuner) (2.26.0)\r\n",
      "Requirement already satisfied: numpy in /opt/conda/lib/python3.7/site-packages (from keras-tuner) (1.20.3)\r\n",
      "Requirement already satisfied: packaging in /opt/conda/lib/python3.7/site-packages (from keras-tuner) (21.3)\r\n",
      "Requirement already satisfied: tensorboard in /opt/conda/lib/python3.7/site-packages (from keras-tuner) (2.6.0)\r\n",
      "Requirement already satisfied: kt-legacy in /opt/conda/lib/python3.7/site-packages (from keras-tuner) (1.0.4)\r\n",
      "Requirement already satisfied: prompt-toolkit!=3.0.0,!=3.0.1,<3.1.0,>=2.0.0 in /opt/conda/lib/python3.7/site-packages (from ipython->keras-tuner) (3.0.24)\r\n",
      "Requirement already satisfied: pygments in /opt/conda/lib/python3.7/site-packages (from ipython->keras-tuner) (2.10.0)\r\n",
      "Requirement already satisfied: pickleshare in /opt/conda/lib/python3.7/site-packages (from ipython->keras-tuner) (0.7.5)\r\n",
      "Requirement already satisfied: jedi>=0.16 in /opt/conda/lib/python3.7/site-packages (from ipython->keras-tuner) (0.18.1)\r\n",
      "Requirement already satisfied: backcall in /opt/conda/lib/python3.7/site-packages (from ipython->keras-tuner) (0.2.0)\r\n",
      "Requirement already satisfied: pexpect>4.3 in /opt/conda/lib/python3.7/site-packages (from ipython->keras-tuner) (4.8.0)\r\n",
      "Requirement already satisfied: matplotlib-inline in /opt/conda/lib/python3.7/site-packages (from ipython->keras-tuner) (0.1.3)\r\n",
      "Requirement already satisfied: traitlets>=4.2 in /opt/conda/lib/python3.7/site-packages (from ipython->keras-tuner) (5.1.1)\r\n",
      "Requirement already satisfied: setuptools>=18.5 in /opt/conda/lib/python3.7/site-packages (from ipython->keras-tuner) (59.5.0)\r\n",
      "Requirement already satisfied: decorator in /opt/conda/lib/python3.7/site-packages (from ipython->keras-tuner) (5.1.0)\r\n",
      "Requirement already satisfied: pyparsing!=3.0.5,>=2.0.2 in /opt/conda/lib/python3.7/site-packages (from packaging->keras-tuner) (3.0.6)\r\n",
      "Requirement already satisfied: charset-normalizer~=2.0.0 in /opt/conda/lib/python3.7/site-packages (from requests->keras-tuner) (2.0.9)\r\n",
      "Requirement already satisfied: idna<4,>=2.5 in /opt/conda/lib/python3.7/site-packages (from requests->keras-tuner) (3.1)\r\n",
      "Requirement already satisfied: certifi>=2017.4.17 in /opt/conda/lib/python3.7/site-packages (from requests->keras-tuner) (2021.10.8)\r\n",
      "Requirement already satisfied: urllib3<1.27,>=1.21.1 in /opt/conda/lib/python3.7/site-packages (from requests->keras-tuner) (1.26.7)\r\n",
      "Requirement already satisfied: absl-py>=0.4 in /opt/conda/lib/python3.7/site-packages (from tensorboard->keras-tuner) (0.15.0)\r\n",
      "Requirement already satisfied: tensorboard-data-server<0.7.0,>=0.6.0 in /opt/conda/lib/python3.7/site-packages (from tensorboard->keras-tuner) (0.6.1)\r\n",
      "Requirement already satisfied: markdown>=2.6.8 in /opt/conda/lib/python3.7/site-packages (from tensorboard->keras-tuner) (3.3.6)\r\n",
      "Requirement already satisfied: google-auth<2,>=1.6.3 in /opt/conda/lib/python3.7/site-packages (from tensorboard->keras-tuner) (1.35.0)\r\n",
      "Requirement already satisfied: google-auth-oauthlib<0.5,>=0.4.1 in /opt/conda/lib/python3.7/site-packages (from tensorboard->keras-tuner) (0.4.6)\r\n",
      "Requirement already satisfied: tensorboard-plugin-wit>=1.6.0 in /opt/conda/lib/python3.7/site-packages (from tensorboard->keras-tuner) (1.8.0)\r\n",
      "Requirement already satisfied: grpcio>=1.24.3 in /opt/conda/lib/python3.7/site-packages (from tensorboard->keras-tuner) (1.43.0)\r\n",
      "Requirement already satisfied: wheel>=0.26 in /opt/conda/lib/python3.7/site-packages (from tensorboard->keras-tuner) (0.37.0)\r\n",
      "Requirement already satisfied: protobuf>=3.6.0 in /opt/conda/lib/python3.7/site-packages (from tensorboard->keras-tuner) (3.19.4)\r\n",
      "Requirement already satisfied: werkzeug>=0.11.15 in /opt/conda/lib/python3.7/site-packages (from tensorboard->keras-tuner) (2.0.2)\r\n",
      "Requirement already satisfied: six in /opt/conda/lib/python3.7/site-packages (from absl-py>=0.4->tensorboard->keras-tuner) (1.16.0)\r\n",
      "Requirement already satisfied: pyasn1-modules>=0.2.1 in /opt/conda/lib/python3.7/site-packages (from google-auth<2,>=1.6.3->tensorboard->keras-tuner) (0.2.7)\r\n",
      "Requirement already satisfied: cachetools<5.0,>=2.0.0 in /opt/conda/lib/python3.7/site-packages (from google-auth<2,>=1.6.3->tensorboard->keras-tuner) (4.2.4)\r\n",
      "Requirement already satisfied: rsa<5,>=3.1.4 in /opt/conda/lib/python3.7/site-packages (from google-auth<2,>=1.6.3->tensorboard->keras-tuner) (4.8)\r\n",
      "Requirement already satisfied: requests-oauthlib>=0.7.0 in /opt/conda/lib/python3.7/site-packages (from google-auth-oauthlib<0.5,>=0.4.1->tensorboard->keras-tuner) (1.3.0)\r\n",
      "Requirement already satisfied: parso<0.9.0,>=0.8.0 in /opt/conda/lib/python3.7/site-packages (from jedi>=0.16->ipython->keras-tuner) (0.8.3)\r\n",
      "Requirement already satisfied: importlib-metadata>=4.4 in /opt/conda/lib/python3.7/site-packages (from markdown>=2.6.8->tensorboard->keras-tuner) (4.11.3)\r\n",
      "Requirement already satisfied: ptyprocess>=0.5 in /opt/conda/lib/python3.7/site-packages (from pexpect>4.3->ipython->keras-tuner) (0.7.0)\r\n",
      "Requirement already satisfied: wcwidth in /opt/conda/lib/python3.7/site-packages (from prompt-toolkit!=3.0.0,!=3.0.1,<3.1.0,>=2.0.0->ipython->keras-tuner) (0.2.5)\r\n",
      "Requirement already satisfied: zipp>=0.5 in /opt/conda/lib/python3.7/site-packages (from importlib-metadata>=4.4->markdown>=2.6.8->tensorboard->keras-tuner) (3.6.0)\r\n",
      "Requirement already satisfied: typing-extensions>=3.6.4 in /opt/conda/lib/python3.7/site-packages (from importlib-metadata>=4.4->markdown>=2.6.8->tensorboard->keras-tuner) (4.1.1)\r\n",
      "Requirement already satisfied: pyasn1<0.5.0,>=0.4.6 in /opt/conda/lib/python3.7/site-packages (from pyasn1-modules>=0.2.1->google-auth<2,>=1.6.3->tensorboard->keras-tuner) (0.4.8)\r\n",
      "Requirement already satisfied: oauthlib>=3.0.0 in /opt/conda/lib/python3.7/site-packages (from requests-oauthlib>=0.7.0->google-auth-oauthlib<0.5,>=0.4.1->tensorboard->keras-tuner) (3.1.1)\r\n",
      "Installing collected packages: keras-tuner\r\n",
      "  Attempting uninstall: keras-tuner\r\n",
      "    Found existing installation: keras-tuner 1.1.0\r\n",
      "    Uninstalling keras-tuner-1.1.0:\r\n",
      "      Successfully uninstalled keras-tuner-1.1.0\r\n",
      "Successfully installed keras-tuner-1.1.2\r\n",
      "\u001b[33mWARNING: Running pip as the 'root' user can result in broken permissions and conflicting behaviour with the system package manager. It is recommended to use a virtual environment instead: https://pip.pypa.io/warnings/venv\u001b[0m\r\n"
     ]
    }
   ],
   "source": [
    "!pip install -U keras-tuner\n",
    "from keras_tuner.tuners import RandomSearch\n",
    "import keras_tuner"
   ]
  },
  {
   "cell_type": "markdown",
   "id": "836e271c",
   "metadata": {},
   "source": [
    "Hasta ahora, hemos fijado un modelo de red neuronal que se ha utilizado para realizar experimentos iniciales que nos han servido para conocer en mayor profundidad el problema.\n",
    "Gracias a ellos, hemos tomado decisiones acerca de qué preprocesamiento realizar a los datos (en relación al desbalanceo de clases y al hecho de que no es necesario normalizar).\n",
    "\n",
    "Nuestro objetivo ahora es el de obtener el mejor modelo de red neuronal posible. \n",
    "Para ello, en la siguiente celda se utiliza ```tuner``` con el objetivo de probar diferentes hiperparámetros y así obtener una red neuronal lo más óptima posible.\n",
    "El funcionamiento consiste en probar de manera aleatoria distintas combinaciones de hiperparámetros indicados previamente.\n",
    "Concretamente, modificamos los siguientes hiperparámetros:\n",
    "\n",
    "- Número de capas ocultas: entre 1 y 2. Generalmente, con 1 capa oculta es suficiente para resolver problemas no lineales. Sin embargo, puede ser que un modelo con dos capas ocultas funcione mejor a la hora de tratar con problemas más complejos. Por ello, decidimos probar ambas posibilidades.\n",
    "- Número de neuronas de cada una de las capas ocultas: entre 5 y 20 neuronas (escogiendo como posibilidades únicamente los múltiplos de 5). Esto permite probar capas con mayor y menos complejidad.\n",
    "- Función de activación de cada una de las capas ocultas: probamos la relu, tangente hiperbólica y la sigmoide. Las tres funciones se utilizan habitualmente y tienen propiedades distintas (sobre todo la relu comparada con las otras dos).\n",
    "- Tasa de aprendizaje: entre 0.0001 y 0.01. Es un valor crucial a la hora de realizar el aprendizaje. Uno excesivamente pequeño puede provocar que el aprendizaje sea excesivamente lento y uno excesivamente grande puede provocar que directamente no haya aprendizaje. En nuestra experiencia, la tasa de aprendizaje óptima suele estar entre los valores uqe hemos fijado como límite.\n",
    "- Optimizador: probamos Adam, SGD y RMSProp. Los tres son optimizadores basados en el descenso por gradiente. SGD define el proceso de optimización más básico. Los otros dos añaden a la retropropagación habitual un ajuste automático dependiendo del histórico del proceso de entrenamiento. Cada uno proporciona mejores resultados en distintas situaciones.\n",
    "\n",
    "Cabe destacar que se ha dejado completamente fija la definición de la capa de salida. Por ser un problema de clasificación con una clase, debe tener una única neurona con función de activación sigmoide.\n",
    "Lo único que se ha fijado previamente además de eso es la función de pérdidas, que como se ha mencionado anteriormente es la que se usa para problemas de clasificación.\n",
    "\n",
    "Para la realización de las pruebas, hemos fijado que se realicen 300 experimentos distintos seleccionando los hiperparámetros de manera aleatoria entre los mencionados.\n",
    "Es necesario realizar un número de pruebas elevado para poder probar un número de combinaciones significativo antes de escoger un modelo óptimo."
   ]
  },
  {
   "cell_type": "code",
   "execution_count": 19,
   "id": "1e0a47eb",
   "metadata": {
    "execution": {
     "iopub.execute_input": "2022-04-27T19:43:36.056091Z",
     "iopub.status.busy": "2022-04-27T19:43:36.055259Z",
     "iopub.status.idle": "2022-04-27T23:13:12.792885Z",
     "shell.execute_reply": "2022-04-27T23:13:12.793491Z",
     "shell.execute_reply.started": "2022-04-27T19:40:50.125243Z"
    },
    "id": "uLcr7sg8M4RH",
    "papermill": {
     "duration": 12576.807795,
     "end_time": "2022-04-27T23:13:12.793680",
     "exception": false,
     "start_time": "2022-04-27T19:43:35.985885",
     "status": "completed"
    },
    "tags": []
   },
   "outputs": [
    {
     "name": "stdout",
     "output_type": "stream",
     "text": [
      "Search space summary\n",
      "Default search space size: 5\n",
      "hidden_layers (Int)\n",
      "{'default': None, 'conditions': [], 'min_value': 1, 'max_value': 2, 'step': 1, 'sampling': None}\n",
      "units_0 (Int)\n",
      "{'default': None, 'conditions': [], 'min_value': 5, 'max_value': 20, 'step': 5, 'sampling': None}\n",
      "activation_0 (Choice)\n",
      "{'default': 'relu', 'conditions': [], 'values': ['relu', 'sigmoid', 'tanh'], 'ordered': False}\n",
      "lr (Float)\n",
      "{'default': 0.0001, 'conditions': [], 'min_value': 0.0001, 'max_value': 0.01, 'step': None, 'sampling': 'log'}\n",
      "optimizer (Choice)\n",
      "{'default': 'adam', 'conditions': [], 'values': ['adam', 'sgd', 'rmsprop'], 'ordered': False}\n",
      "Results summary\n",
      "Results in ./untitled_project\n",
      "Showing 10 best trials\n",
      "<keras_tuner.engine.objective.Objective object at 0x7ff1b458a410>\n",
      "Trial summary\n",
      "Hyperparameters:\n",
      "hidden_layers: 1\n",
      "units_0: 10\n",
      "activation_0: relu\n",
      "lr: 0.003548788601453319\n",
      "optimizer: adam\n",
      "units_1: 15\n",
      "activation_1: sigmoid\n",
      "Score: 0.5730188488960266\n",
      "Trial summary\n",
      "Hyperparameters:\n",
      "hidden_layers: 1\n",
      "units_0: 15\n",
      "activation_0: tanh\n",
      "lr: 0.006991661056032743\n",
      "optimizer: adam\n",
      "units_1: 5\n",
      "activation_1: relu\n",
      "Score: 0.5700149536132812\n",
      "Trial summary\n",
      "Hyperparameters:\n",
      "hidden_layers: 2\n",
      "units_0: 15\n",
      "activation_0: tanh\n",
      "lr: 0.007322057994297387\n",
      "optimizer: rmsprop\n",
      "units_1: 5\n",
      "activation_1: tanh\n",
      "Score: 0.5686821341514587\n",
      "Trial summary\n",
      "Hyperparameters:\n",
      "hidden_layers: 2\n",
      "units_0: 20\n",
      "activation_0: tanh\n",
      "lr: 0.0034381921359473676\n",
      "optimizer: adam\n",
      "units_1: 15\n",
      "activation_1: tanh\n",
      "Score: 0.5659570693969727\n",
      "Trial summary\n",
      "Hyperparameters:\n",
      "hidden_layers: 1\n",
      "units_0: 20\n",
      "activation_0: relu\n",
      "lr: 0.00526060993003738\n",
      "optimizer: adam\n",
      "units_1: 10\n",
      "activation_1: tanh\n",
      "Score: 0.5645604133605957\n",
      "Trial summary\n",
      "Hyperparameters:\n",
      "hidden_layers: 2\n",
      "units_0: 20\n",
      "activation_0: sigmoid\n",
      "lr: 0.005300696019167498\n",
      "optimizer: rmsprop\n",
      "units_1: 5\n",
      "activation_1: relu\n",
      "Score: 0.5643817186355591\n",
      "Trial summary\n",
      "Hyperparameters:\n",
      "hidden_layers: 1\n",
      "units_0: 10\n",
      "activation_0: relu\n",
      "lr: 0.007399608206353054\n",
      "optimizer: adam\n",
      "units_1: 20\n",
      "activation_1: tanh\n",
      "Score: 0.5622981190681458\n",
      "Trial summary\n",
      "Hyperparameters:\n",
      "hidden_layers: 2\n",
      "units_0: 20\n",
      "activation_0: relu\n",
      "lr: 0.002753455961823176\n",
      "optimizer: rmsprop\n",
      "units_1: 15\n",
      "activation_1: relu\n",
      "Score: 0.561553418636322\n",
      "Trial summary\n",
      "Hyperparameters:\n",
      "hidden_layers: 1\n",
      "units_0: 20\n",
      "activation_0: tanh\n",
      "lr: 0.0033848805978041754\n",
      "optimizer: rmsprop\n",
      "units_1: 10\n",
      "activation_1: tanh\n",
      "Score: 0.5613693594932556\n",
      "Trial summary\n",
      "Hyperparameters:\n",
      "hidden_layers: 2\n",
      "units_0: 20\n",
      "activation_0: tanh\n",
      "lr: 0.000983315988436086\n",
      "optimizer: rmsprop\n",
      "units_1: 10\n",
      "activation_1: sigmoid\n",
      "Score: 0.5607966184616089\n",
      "[[143  34]\n",
      " [  8  29]]\n",
      "              precision    recall  f1-score   support\n",
      "\n",
      "         0.0       0.95      0.81      0.87       177\n",
      "         1.0       0.46      0.78      0.58        37\n",
      "\n",
      "    accuracy                           0.80       214\n",
      "   macro avg       0.70      0.80      0.73       214\n",
      "weighted avg       0.86      0.80      0.82       214\n",
      "\n"
     ]
    }
   ],
   "source": [
    "### -------------------------------------------------------\n",
    "### Define tu hipermodelo\n",
    "### -------------------------------------------------------\n",
    "\n",
    "def build_model(hp):\n",
    "    nn = Sequential()\n",
    "    for i in range(hp.Int('hidden_layers', min_value=1, max_value=2, step=1)):\n",
    "        nn.add(Dense(hp.Int(f'units_{i}', min_value=5, max_value=20, step=5), activation=hp.Choice(f'activation_{i}', [\"relu\", \"sigmoid\", \"tanh\"])))\n",
    "    nn.add(Dense(1, activation=\"sigmoid\"))\n",
    "    learning_rate = hp.Float(\"lr\", min_value=1e-4, max_value=1e-2, sampling=\"log\")\n",
    "    optimizer_name = hp.Choice('optimizer', ['adam', 'sgd', 'rmsprop'])\n",
    "    optimizer_dict = {'adam': keras.optimizers.Adam(learning_rate=learning_rate), 'sgd': keras.optimizers.SGD(learning_rate=learning_rate), \n",
    "                      'rmsprop': keras.optimizers.RMSprop(learning_rate=learning_rate)}\n",
    "    nn.compile(optimizer=optimizer_dict[optimizer_name], loss=\"binary_crossentropy\", metrics=metrics)\n",
    "    return nn\n",
    "\n",
    "### -------------------------------------------------------\n",
    "### Pon en marcha la búsqueda de hiperparámetros, elije el \n",
    "### objetivo más adecuado.\n",
    "### -------------------------------------------------------\n",
    "\n",
    "tuner = RandomSearch(build_model, objective=keras_tuner.Objective('val_f1_score', direction=\"max\"), max_trials=300, executions_per_trial=2) \n",
    "\n",
    "tuner.search_space_summary()\n",
    "\n",
    "tuner.search(x_train, y_train, epochs=epochs, class_weight=class_weights, validation_data=(x_val, y_val), verbose=0)\n",
    "\n",
    "tuner.results_summary()\n",
    "\n",
    "best_nn = tuner.get_best_models(num_models=1) # Nos guardamos el mejor modelo en una variable\n",
    "\n",
    "y_pred = best_nn[0].predict(x_val)\n",
    "y_pred = y_pred > 0.5\n",
    "\n",
    "print(confusion_matrix(y_val, y_pred))\n",
    "\n",
    "print(classification_report(y_val, y_pred, zero_division=0))"
   ]
  },
  {
   "cell_type": "markdown",
   "id": "af08ad8e",
   "metadata": {
    "id": "NnY8rX6HzZXU",
    "papermill": {
     "duration": 0.058454,
     "end_time": "2022-04-27T23:13:12.910221",
     "exception": false,
     "start_time": "2022-04-27T23:13:12.851767",
     "status": "completed"
    },
    "tags": []
   },
   "source": [
    "### <font color=\"#CA3532\">Diseño final de la red neuronal</font>\n",
    "Define ahora tu modelo final y muestra los resultados de su evaluación."
   ]
  },
  {
   "cell_type": "markdown",
   "id": "590335f8",
   "metadata": {},
   "source": [
    "Como resultado del apartado anterior nos hemos guardado el modelo que mejor ```f1-score``` ha proporcionado (hemos visto que es la métrica más adecuada para comparar modelos en este tipo de problema).\n",
    "Concretamente, la arquitectura definida por ese modelo es la siguiente."
   ]
  },
  {
   "cell_type": "code",
   "execution_count": 20,
   "id": "d5ece0cf",
   "metadata": {},
   "outputs": [
    {
     "data": {
      "image/png": "[encoded data removed]",
      "text/plain": [
       "<IPython.core.display.Image object>"
      ]
     },
     "execution_count": 20,
     "metadata": {},
     "output_type": "execute_result"
    }
   ],
   "source": [
    "nn_final = best_nn[0]\n",
    "tf.keras.utils.plot_model(nn_final, show_shapes=True, show_layer_names=False)"
   ]
  },
  {
   "cell_type": "markdown",
   "id": "705a21a4",
   "metadata": {},
   "source": [
    "Se puede observar que el modelo tiene solo una capa oculta de 10 neuronas, exactamente igual que el número de atributos de entrada de la capa inicial.\n",
    "Esto coincide con la arquitectura inicial que utilizamos para realizar los primeros experimentos.\n",
    "La diferencia entre este modelo y ese inicial radica en la función de activación de la capa oculta (donde se utiliza la relu en lugar de la sigmoide) \n",
    "y la tasa de aprendizaje del optimizador, donde ya no se usa la que se asigna por defecto en Adam y se utiliza 0.003548788601453319 en su lugar.\n",
    "\n",
    "El cambio de la función de activación y la tasa de aprendizaje pueden resultar pequeños cambios teniendo en cuenta que el resto de los aspectos de la arquitectura son iguales a los del modelo inicial.\n",
    "Sin embargo, el cambio en el rendimiento al comparar el valor de ```f1-score``` es significativo al hacer estos cambios. \n",
    "Esto muestra lo crucial que es hacer experimentos modificando los hiperparámetros."
   ]
  },
  {
   "cell_type": "markdown",
   "id": "fdd59e85",
   "metadata": {
    "papermill": {
     "duration": 0.057657,
     "end_time": "2022-04-27T23:13:13.026170",
     "exception": false,
     "start_time": "2022-04-27T23:13:12.968513",
     "status": "completed"
    },
    "tags": []
   },
   "source": [
    "Por último, nos preguntamos si entrenando el modelo final que hemos obtenido un mayor número de épocas, obtendremos mejores resultados."
   ]
  },
  {
   "cell_type": "code",
   "execution_count": 21,
   "id": "a9d97fbf",
   "metadata": {
    "execution": {
     "iopub.execute_input": "2022-04-27T23:13:13.149251Z",
     "iopub.status.busy": "2022-04-27T23:13:13.145435Z",
     "iopub.status.idle": "2022-04-27T23:13:34.740432Z",
     "shell.execute_reply": "2022-04-27T23:13:34.741339Z",
     "shell.execute_reply.started": "2022-04-27T19:30:28.275708Z"
    },
    "id": "Dn7fBHo_zfaz",
    "papermill": {
     "duration": 21.656327,
     "end_time": "2022-04-27T23:13:34.741554",
     "exception": false,
     "start_time": "2022-04-27T23:13:13.085227",
     "status": "completed"
    },
    "tags": []
   },
   "outputs": [
    {
     "name": "stdout",
     "output_type": "stream",
     "text": [
      "[[124  53]\n",
      " [  7  30]]\n",
      "              precision    recall  f1-score   support\n",
      "\n",
      "         0.0       0.95      0.70      0.81       177\n",
      "         1.0       0.36      0.81      0.50        37\n",
      "\n",
      "    accuracy                           0.72       214\n",
      "   macro avg       0.65      0.76      0.65       214\n",
      "weighted avg       0.85      0.72      0.75       214\n",
      "\n"
     ]
    }
   ],
   "source": [
    "### ---------------------------------------------------------------------------\n",
    "### Modelo final y evaluación\n",
    "### ---------------------------------------------------------------------------\n",
    "\n",
    "# Entrenamos el modelo desde los pesos que mejor resultado han dado, doblando entonces el número de épocas de este mejor modelo\n",
    "history = nn_final.fit(x_train, y_train, epochs=epochs, class_weight=class_weights, validation_data=(x_val, y_val), verbose=0)\n",
    "\n",
    "y_pred = nn_final.predict(x_val)\n",
    "y_pred = y_pred > 0.5\n",
    "\n",
    "print(confusion_matrix(y_val, y_pred))\n",
    "\n",
    "print(classification_report(y_val, y_pred, zero_division=0))"
   ]
  },
  {
   "cell_type": "markdown",
   "id": "899f0b28",
   "metadata": {},
   "source": [
    "Sin embargo, observamos que el valor de ```f1-score``` disminuye al realizar este entrenamiento extra debido, seguramente, a un excesivo sobreajuste.\n",
    "Por tanto, nuestro mejor modelo viene dado por la arquitectura mostrada, entrenando con el número de épocas fijado al inicio.\n",
    "Su matriz de confusión y resultados con diferentes métricas se puede encontrar al final del apartado anterior. "
   ]
  },
  {
   "cell_type": "markdown",
   "id": "881a83c5",
   "metadata": {
    "papermill": {
     "duration": 0.058347,
     "end_time": "2022-04-27T23:13:34.858298",
     "exception": false,
     "start_time": "2022-04-27T23:13:34.799951",
     "status": "completed"
    },
    "tags": []
   },
   "source": [
    "### <font color=\"#CA3532\">Anexo: XGBoost</font>\n",
    "Con el fin de comparar el comportamiento de la red neuronal obtenida con otro tipo de modelos, decidimos entrenar un `XGBClassifier`. Para usar la máxima potencia del hardware del que disponemos gracias a Google Collab, usamos la opción de GPU que permite la librería. Esta opción ha sido un gran descubrimiento, ya que la mejora en tiempos es espectacular"
   ]
  },
  {
   "cell_type": "code",
   "execution_count": 22,
   "id": "2169ec6b",
   "metadata": {
    "execution": {
     "iopub.execute_input": "2022-04-27T23:13:34.978160Z",
     "iopub.status.busy": "2022-04-27T23:13:34.977429Z",
     "iopub.status.idle": "2022-04-27T23:13:42.100639Z",
     "shell.execute_reply": "2022-04-27T23:13:42.100018Z",
     "shell.execute_reply.started": "2022-04-27T19:30:35.685082Z"
    },
    "papermill": {
     "duration": 7.184661,
     "end_time": "2022-04-27T23:13:42.100799",
     "exception": false,
     "start_time": "2022-04-27T23:13:34.916138",
     "status": "completed"
    },
    "tags": []
   },
   "outputs": [
    {
     "name": "stdout",
     "output_type": "stream",
     "text": [
      "Requirement already satisfied: xgboost in /opt/conda/lib/python3.7/site-packages (1.5.2)\r\n",
      "Requirement already satisfied: scipy in /opt/conda/lib/python3.7/site-packages (from xgboost) (1.7.3)\r\n",
      "Requirement already satisfied: numpy in /opt/conda/lib/python3.7/site-packages (from xgboost) (1.20.3)\r\n",
      "\u001b[33mWARNING: Running pip as the 'root' user can result in broken permissions and conflicting behaviour with the system package manager. It is recommended to use a virtual environment instead: https://pip.pypa.io/warnings/venv\u001b[0m\r\n"
     ]
    }
   ],
   "source": [
    "! pip install xgboost\n",
    "import xgboost as xgb\n",
    "import sklearn"
   ]
  },
  {
   "cell_type": "markdown",
   "id": "9e89b5f6",
   "metadata": {
    "papermill": {
     "duration": 0.058212,
     "end_time": "2022-04-27T23:13:42.218273",
     "exception": false,
     "start_time": "2022-04-27T23:13:42.160061",
     "status": "completed"
    },
    "tags": []
   },
   "source": [
    "Para tener en cuenta el desbalanceo de clases, la [documentación](https://xgboost.readthedocs.io/en/latest/tutorials/param_tuning.html#handle-imbalanced-dataset) sugiere usar el parámetro `scale_pos_weight`, que se estima como el cociente del número de elementos de la clase negativa sobre el número de elementos de la clase positiva."
   ]
  },
  {
   "cell_type": "code",
   "execution_count": 23,
   "id": "00e2d398",
   "metadata": {
    "execution": {
     "iopub.execute_input": "2022-04-27T23:13:42.339875Z",
     "iopub.status.busy": "2022-04-27T23:13:42.339049Z",
     "iopub.status.idle": "2022-04-27T23:13:42.341573Z",
     "shell.execute_reply": "2022-04-27T23:13:42.341147Z",
     "shell.execute_reply.started": "2022-04-27T19:30:44.373363Z"
    },
    "papermill": {
     "duration": 0.065296,
     "end_time": "2022-04-27T23:13:42.341674",
     "exception": false,
     "start_time": "2022-04-27T23:13:42.276378",
     "status": "completed"
    },
    "tags": []
   },
   "outputs": [],
   "source": [
    "scale_pos_weight_estimation = y_train.tolist().count(0) / y_train.tolist().count(1)"
   ]
  },
  {
   "cell_type": "markdown",
   "id": "06e92c8a",
   "metadata": {
    "papermill": {
     "duration": 0.058666,
     "end_time": "2022-04-27T23:13:42.459102",
     "exception": false,
     "start_time": "2022-04-27T23:13:42.400436",
     "status": "completed"
    },
    "tags": []
   },
   "source": [
    "Tras probar diversas combinaciones de hiperparámetros, una de las mejores es la siguiente"
   ]
  },
  {
   "cell_type": "code",
   "execution_count": 24,
   "id": "2befb99e",
   "metadata": {
    "execution": {
     "iopub.execute_input": "2022-04-27T23:13:42.580482Z",
     "iopub.status.busy": "2022-04-27T23:13:42.579788Z",
     "iopub.status.idle": "2022-04-27T23:13:45.983500Z",
     "shell.execute_reply": "2022-04-27T23:13:45.982704Z",
     "shell.execute_reply.started": "2022-04-27T19:40:21.780995Z"
    },
    "papermill": {
     "duration": 3.46675,
     "end_time": "2022-04-27T23:13:45.983627",
     "exception": false,
     "start_time": "2022-04-27T23:13:42.516877",
     "status": "completed"
    },
    "tags": []
   },
   "outputs": [
    {
     "data": {
      "text/plain": [
       "XGBClassifier(base_score=0.5, booster='gbtree', colsample_bylevel=1,\n",
       "              colsample_bynode=1, colsample_bytree=1, enable_categorical=False,\n",
       "              eval_metric=<function f1_score at 0x7ff1b5859ef0>, gamma=0,\n",
       "              gpu_id=0, importance_type=None, interaction_constraints='',\n",
       "              learning_rate=0.005, max_delta_step=0, max_depth=2,\n",
       "              min_child_weight=1, missing=nan, monotone_constraints='()',\n",
       "              n_estimators=25, n_jobs=-1, num_parallel_tree=1,\n",
       "              predictor='gpu_predictor', random_state=0, reg_alpha=0,\n",
       "              reg_lambda=1, scale_pos_weight=4.875862068965517, subsample=1,\n",
       "              tree_method='gpu_hist', use_label_encoder=False,\n",
       "              validate_parameters=1, verbosity=0)"
      ]
     },
     "execution_count": 24,
     "metadata": {},
     "output_type": "execute_result"
    }
   ],
   "source": [
    "xgb_cls = xgb.XGBClassifier(objective='binary:logistic', eval_metric=sklearn.metrics.f1_score, scale_pos_weight=scale_pos_weight_estimation, \n",
    "                            n_estimators=25, max_depth=2, learning_rate=0.005,\n",
    "                            gpu_id=0, tree_method='gpu_hist', predictor='gpu_predictor',\n",
    "                            n_jobs=-1, use_label_encoder=False, verbosity=0, random_state=SEED)\n",
    "xgb_cls.fit(x_train, y_train)"
   ]
  },
  {
   "cell_type": "code",
   "execution_count": 25,
   "id": "d0759f32",
   "metadata": {
    "execution": {
     "iopub.execute_input": "2022-04-27T23:13:46.119415Z",
     "iopub.status.busy": "2022-04-27T23:13:46.118849Z",
     "iopub.status.idle": "2022-04-27T23:13:46.135712Z",
     "shell.execute_reply": "2022-04-27T23:13:46.134795Z",
     "shell.execute_reply.started": "2022-04-27T19:30:47.488217Z"
    },
    "papermill": {
     "duration": 0.086595,
     "end_time": "2022-04-27T23:13:46.135876",
     "exception": false,
     "start_time": "2022-04-27T23:13:46.049281",
     "status": "completed"
    },
    "tags": []
   },
   "outputs": [
    {
     "name": "stdout",
     "output_type": "stream",
     "text": [
      "[[146  31]\n",
      " [ 12  25]]\n",
      "              precision    recall  f1-score   support\n",
      "\n",
      "         0.0       0.92      0.82      0.87       177\n",
      "         1.0       0.45      0.68      0.54        37\n",
      "\n",
      "    accuracy                           0.80       214\n",
      "   macro avg       0.69      0.75      0.70       214\n",
      "weighted avg       0.84      0.80      0.81       214\n",
      "\n"
     ]
    }
   ],
   "source": [
    "y_pred = xgb_cls.predict(x_val)\n",
    "y_pred = y_pred > 0.5\n",
    "\n",
    "print(confusion_matrix(y_val, y_pred))\n",
    "\n",
    "print(classification_report(y_val, y_pred, zero_division=0))"
   ]
  },
  {
   "cell_type": "markdown",
   "id": "930379b0",
   "metadata": {
    "papermill": {
     "duration": 0.06611,
     "end_time": "2022-04-27T23:13:46.268315",
     "exception": false,
     "start_time": "2022-04-27T23:13:46.202205",
     "status": "completed"
    },
    "tags": []
   },
   "source": [
    "Observamos que el `f1-score` obtenido es similar (incluso inferior) al de la red neuronal entrenada. Concluimos que la red neuronal llega a unos buenos resultados"
   ]
  },
  {
   "cell_type": "markdown",
   "id": "3e4d0f6e",
   "metadata": {
    "papermill": {
     "duration": 0.065412,
     "end_time": "2022-04-27T23:13:46.399077",
     "exception": false,
     "start_time": "2022-04-27T23:13:46.333665",
     "status": "completed"
    },
    "tags": []
   },
   "source": [
    "Finalmente, realizamos una búsqueda en grid para ver si podemos exprimir el rendimiento del `XGBClassifier`"
   ]
  },
  {
   "cell_type": "code",
   "execution_count": 26,
   "id": "a3367014",
   "metadata": {
    "execution": {
     "iopub.execute_input": "2022-04-27T23:13:46.542495Z",
     "iopub.status.busy": "2022-04-27T23:13:46.541671Z",
     "iopub.status.idle": "2022-04-27T23:13:46.550210Z",
     "shell.execute_reply": "2022-04-27T23:13:46.549749Z",
     "shell.execute_reply.started": "2022-04-27T19:40:28.251803Z"
    },
    "papermill": {
     "duration": 0.082642,
     "end_time": "2022-04-27T23:13:46.550340",
     "exception": false,
     "start_time": "2022-04-27T23:13:46.467698",
     "status": "completed"
    },
    "tags": []
   },
   "outputs": [],
   "source": [
    "from sklearn.model_selection import GridSearchCV\n",
    "\n",
    "cv_params = {'max_depth': [1,2,3,5], 'n_estimators': [25, 50, 100, 250, 500, 1000], 'learning_rate': [0.3, 0.03, 0.003, 0.0003], 'max_delta_step': [0,1,2,4], 'min_child_weight': [1,2,3,4]}    # parameters to be tries in the grid search\n",
    "fix_params = {'objective': 'binary:logistic', 'eval_metric': sklearn.metrics.f1_score, 'scale_pos_weight': scale_pos_weight_estimation,\n",
    "              'gpu_id': 0, 'tree_method': 'gpu_hist',\n",
    "              'n_jobs': -1, 'use_label_encoder': False, 'verbosity': 0, 'random_state': SEED}   #other parameters, fixed for the moment \n",
    "csv = GridSearchCV(xgb.XGBClassifier(**fix_params), cv_params, scoring='f1', cv=3, verbose=0)"
   ]
  },
  {
   "cell_type": "code",
   "execution_count": 27,
   "id": "01bef928",
   "metadata": {
    "execution": {
     "iopub.execute_input": "2022-04-27T23:13:46.702363Z",
     "iopub.status.busy": "2022-04-27T23:13:46.701450Z",
     "iopub.status.idle": "2022-04-27T23:34:26.922954Z",
     "shell.execute_reply": "2022-04-27T23:34:26.923381Z",
     "shell.execute_reply.started": "2022-04-27T19:40:29.143675Z"
    },
    "papermill": {
     "duration": 1240.301467,
     "end_time": "2022-04-27T23:34:26.923527",
     "exception": false,
     "start_time": "2022-04-27T23:13:46.622060",
     "status": "completed"
    },
    "tags": []
   },
   "outputs": [
    {
     "data": {
      "text/plain": [
       "GridSearchCV(cv=3,\n",
       "             estimator=XGBClassifier(base_score=None, booster=None,\n",
       "                                     colsample_bylevel=None,\n",
       "                                     colsample_bynode=None,\n",
       "                                     colsample_bytree=None,\n",
       "                                     enable_categorical=False,\n",
       "                                     eval_metric=<function f1_score at 0x7ff1b5859ef0>,\n",
       "                                     gamma=None, gpu_id=0, importance_type=None,\n",
       "                                     interaction_constraints=None,\n",
       "                                     learning_rate=None, max_delta_step=None,\n",
       "                                     max_depth=None, min_child_weight...\n",
       "                                     random_state=0, reg_alpha=None,\n",
       "                                     reg_lambda=None,\n",
       "                                     scale_pos_weight=4.875862068965517,\n",
       "                                     subsample=None, tree_method='gpu_hist',\n",
       "                                     use_label_encoder=False,\n",
       "                                     validate_parameters=None, verbosity=0),\n",
       "             param_grid={'learning_rate': [0.3, 0.03, 0.003, 0.0003],\n",
       "                         'max_delta_step': [0, 1, 2, 4],\n",
       "                         'max_depth': [1, 2, 3, 5],\n",
       "                         'min_child_weight': [1, 2, 3, 4],\n",
       "                         'n_estimators': [25, 50, 100, 250, 500, 1000]},\n",
       "             scoring='f1')"
      ]
     },
     "execution_count": 27,
     "metadata": {},
     "output_type": "execute_result"
    }
   ],
   "source": [
    "csv.fit(x_train, y_train)"
   ]
  },
  {
   "cell_type": "code",
   "execution_count": 28,
   "id": "589d70fc",
   "metadata": {
    "execution": {
     "iopub.execute_input": "2022-04-27T23:34:27.048326Z",
     "iopub.status.busy": "2022-04-27T23:34:27.047710Z",
     "iopub.status.idle": "2022-04-27T23:34:27.050399Z",
     "shell.execute_reply": "2022-04-27T23:34:27.050810Z",
     "shell.execute_reply.started": "2022-04-27T19:32:08.745527Z"
    },
    "papermill": {
     "duration": 0.068324,
     "end_time": "2022-04-27T23:34:27.050951",
     "exception": false,
     "start_time": "2022-04-27T23:34:26.982627",
     "status": "completed"
    },
    "tags": []
   },
   "outputs": [
    {
     "data": {
      "text/plain": [
       "0.45183545882017667"
      ]
     },
     "execution_count": 28,
     "metadata": {},
     "output_type": "execute_result"
    }
   ],
   "source": [
    "csv.best_score_"
   ]
  },
  {
   "cell_type": "code",
   "execution_count": 29,
   "id": "94d9fa9b",
   "metadata": {
    "execution": {
     "iopub.execute_input": "2022-04-27T23:34:27.175354Z",
     "iopub.status.busy": "2022-04-27T23:34:27.174770Z",
     "iopub.status.idle": "2022-04-27T23:34:27.177420Z",
     "shell.execute_reply": "2022-04-27T23:34:27.177831Z",
     "shell.execute_reply.started": "2022-04-27T19:32:15.120724Z"
    },
    "papermill": {
     "duration": 0.067581,
     "end_time": "2022-04-27T23:34:27.177971",
     "exception": false,
     "start_time": "2022-04-27T23:34:27.110390",
     "status": "completed"
    },
    "tags": []
   },
   "outputs": [
    {
     "data": {
      "text/plain": [
       "{'learning_rate': 0.03,\n",
       " 'max_delta_step': 0,\n",
       " 'max_depth': 2,\n",
       " 'min_child_weight': 1,\n",
       " 'n_estimators': 25}"
      ]
     },
     "execution_count": 29,
     "metadata": {},
     "output_type": "execute_result"
    }
   ],
   "source": [
    "csv.best_params_"
   ]
  },
  {
   "cell_type": "markdown",
   "id": "6dfb2bbc",
   "metadata": {
    "papermill": {
     "duration": 0.059517,
     "end_time": "2022-04-27T23:34:27.297463",
     "exception": false,
     "start_time": "2022-04-27T23:34:27.237946",
     "status": "completed"
    },
    "tags": []
   },
   "source": [
    "Entrenamos el clasificador con los mejores hiperparámetros obtenidos y comprobamos su rendimiento en validación"
   ]
  },
  {
   "cell_type": "code",
   "execution_count": 30,
   "id": "176fd739",
   "metadata": {
    "execution": {
     "iopub.execute_input": "2022-04-27T23:34:27.428113Z",
     "iopub.status.busy": "2022-04-27T23:34:27.427482Z",
     "iopub.status.idle": "2022-04-27T23:34:27.459210Z",
     "shell.execute_reply": "2022-04-27T23:34:27.458790Z",
     "shell.execute_reply.started": "2022-04-27T19:32:26.262115Z"
    },
    "papermill": {
     "duration": 0.101571,
     "end_time": "2022-04-27T23:34:27.459327",
     "exception": false,
     "start_time": "2022-04-27T23:34:27.357756",
     "status": "completed"
    },
    "tags": []
   },
   "outputs": [
    {
     "data": {
      "text/plain": [
       "XGBClassifier(base_score=0.5, booster='gbtree', colsample_bylevel=1,\n",
       "              colsample_bynode=1, colsample_bytree=1, enable_categorical=False,\n",
       "              eval_metric=<function f1_score at 0x7ff1b5859ef0>, gamma=0,\n",
       "              gpu_id=0, importance_type=None, interaction_constraints='',\n",
       "              learning_rate=0.03, max_delta_step=0, max_depth=2,\n",
       "              min_child_weight=1, missing=nan, monotone_constraints='()',\n",
       "              n_estimators=25, n_jobs=-1, num_parallel_tree=1, predictor='auto',\n",
       "              random_state=0, reg_alpha=0, reg_lambda=1,\n",
       "              scale_pos_weight=4.875862068965517, subsample=1,\n",
       "              tree_method='gpu_hist', use_label_encoder=False,\n",
       "              validate_parameters=1, verbosity=0)"
      ]
     },
     "execution_count": 30,
     "metadata": {},
     "output_type": "execute_result"
    }
   ],
   "source": [
    "fix_params.update(csv.best_params_)\n",
    "best_xgb = xgb.XGBClassifier(**fix_params)\n",
    "best_xgb.fit(x_train, y_train)"
   ]
  },
  {
   "cell_type": "code",
   "execution_count": 31,
   "id": "a680782e",
   "metadata": {
    "execution": {
     "iopub.execute_input": "2022-04-27T23:34:27.608875Z",
     "iopub.status.busy": "2022-04-27T23:34:27.604365Z",
     "iopub.status.idle": "2022-04-27T23:34:27.644715Z",
     "shell.execute_reply": "2022-04-27T23:34:27.645748Z",
     "shell.execute_reply.started": "2022-04-27T19:32:27.563787Z"
    },
    "papermill": {
     "duration": 0.125928,
     "end_time": "2022-04-27T23:34:27.645953",
     "exception": false,
     "start_time": "2022-04-27T23:34:27.520025",
     "status": "completed"
    },
    "tags": []
   },
   "outputs": [
    {
     "name": "stdout",
     "output_type": "stream",
     "text": [
      "[[146  31]\n",
      " [ 12  25]]\n",
      "              precision    recall  f1-score   support\n",
      "\n",
      "         0.0       0.92      0.82      0.87       177\n",
      "         1.0       0.45      0.68      0.54        37\n",
      "\n",
      "    accuracy                           0.80       214\n",
      "   macro avg       0.69      0.75      0.70       214\n",
      "weighted avg       0.84      0.80      0.81       214\n",
      "\n"
     ]
    }
   ],
   "source": [
    "y_pred = xgb_cls.predict(x_val)\n",
    "y_pred = y_pred > 0.5\n",
    "\n",
    "print(confusion_matrix(y_val, y_pred))\n",
    "\n",
    "print(classification_report(y_val, y_pred, zero_division=0))"
   ]
  },
  {
   "cell_type": "markdown",
   "id": "9b4ff883",
   "metadata": {},
   "source": [
    "Los resultados obtenidos tras hacer búsqueda en grid son idénticos a los obtenidos previamente.\n",
    "Esto nos lleva a concluir (con un sustento de resultados mayor) que nuestro modelo de red neuronal definido clasifica considerablemente bien los datos. "
   ]
  },
  {
   "cell_type": "markdown",
   "id": "be83bb94",
   "metadata": {},
   "source": []
  }
 ],
 "metadata": {
  "kernelspec": {
   "display_name": "Python 3",
   "language": "python",
   "name": "python3"
  },
  "language_info": {
   "codemirror_mode": {
    "name": "ipython",
    "version": 3
   },
   "file_extension": ".py",
   "mimetype": "text/x-python",
   "name": "python",
   "nbconvert_exporter": "python",
   "pygments_lexer": "ipython3",
   "version": "3.6.8"
  },
  "papermill": {
   "default_parameters": {},
   "duration": 13960.757499,
   "end_time": "2022-04-27T23:34:30.913553",
   "environment_variables": {},
   "exception": null,
   "input_path": "__notebook__.ipynb",
   "output_path": "__notebook__.ipynb",
   "parameters": {},
   "start_time": "2022-04-27T19:41:50.156054",
   "version": "2.3.3"
  }
 },
 "nbformat": 4,
 "nbformat_minor": 5
}
