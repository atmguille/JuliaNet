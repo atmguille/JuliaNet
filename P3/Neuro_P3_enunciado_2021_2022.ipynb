{
  "cells": [
    {
      "cell_type": "markdown",
      "metadata": {
        "id": "PTK5XDjA81SI"
      },
      "source": [
        "---\n",
        "# <font color=\"#CA3532\">Práctica 3 de Neurocomputación</font>\n",
        "### Curso 2021-2022\n",
        "### Escuela Politécnica Superior – Universidad Autónoma de Madrid\n",
        "\n",
        "---\n",
        "\n",
        "Fechas de entrega:\n",
        "- Grupo 2462: lunes 16 de mayo de 2022\n",
        "- Grupo 2461: martes 17 de mayo de 2022\n",
        "\n",
        "---\n",
        "\n",
        "Última actualización: 31-03-2022\n",
        "\n",
        "---"
      ]
    },
    {
      "cell_type": "markdown",
      "metadata": {
        "id": "jqWSLi9F9lTn"
      },
      "source": [
        "*Sesión 1*:\n",
        "\n",
        "- Esta práctica está centrada en [Keras](https://keras.io/).\n",
        "\n",
        "- Keras es una biblioteca de redes neuronales de código abierto, diseñada para la experimentación con redes neuronales profundas. Keras es modular, extensible y fácil de usar.\n",
        "\n",
        "- Keras puede usar distintos motores. Aquí se usará con TensorFlow.\n",
        "\n"
      ]
    },
    {
      "cell_type": "code",
      "execution_count": 2,
      "metadata": {
        "id": "d7Wiw7iJCbgi"
      },
      "outputs": [],
      "source": [
        "### Incluid vuestros nombres, pareja y grupo aquí:\n",
        "estudiantes = [{'nombre': 'Guillermo García Cobo', 'pareja': 'P06', 'grupo': '2402'},\n",
        "               {'nombre': 'Álvaro Zaera de la Fuente', 'pareja': 'P06', 'grupo': '2402'}]\n"
      ]
    },
    {
      "cell_type": "markdown",
      "metadata": {
        "id": "Y7vp1DQU_2KC"
      },
      "source": [
        "### <font color=\"#CA3532\">Importación de bibliotecas</font>\n",
        "\n",
        "TensorFlow 2.0 incluye oficialmente Keras."
      ]
    },
    {
      "cell_type": "code",
      "execution_count": 1,
      "metadata": {
        "id": "oY36uRqOavkU"
      },
      "outputs": [],
      "source": [
        "# Importaciones\n",
        "\n",
        "import numpy as np\n",
        "import matplotlib.pyplot as plt\n",
        "\n",
        "import tensorflow as tf\n",
        "from tensorflow import keras\n",
        "\n",
        "import keras as k\n",
        "from keras.models import Sequential\n",
        "from keras.layers import Dense"
      ]
    },
    {
      "cell_type": "markdown",
      "metadata": {},
      "source": [
        "### <font color=\"#CA3532\"> Definición de seed</font>\n",
        "Fijamos la seed para obtener resultados reproducibles en cada ejecución."
      ]
    },
    {
      "cell_type": "code",
      "execution_count": 13,
      "metadata": {},
      "outputs": [],
      "source": [
        "import random\n",
        "SEED = 0\n",
        "random.seed(SEED)\n",
        "np.random.seed(SEED)\n",
        "tf.random.set_seed(SEED)"
      ]
    },
    {
      "cell_type": "markdown",
      "metadata": {
        "id": "a4vpTFrKAfG-"
      },
      "source": [
        "### <font color=\"#CA3532\">Datos del problema</font>\n",
        "\n",
        "El problema consiste en predecir si va a haber una erupción solar (*solar flares*) en ciertas regiones solares en función de las características de la región solar. El conjunto datos y la caracterización de sus atributos puede encontrarse en https://www.openml.org/d/40702. El siguiente fragmento de código permite cargar estos datos."
      ]
    },
    {
      "cell_type": "code",
      "execution_count": 61,
      "metadata": {
        "id": "nH2J34Gfbv_C"
      },
      "outputs": [],
      "source": [
        "dataset_url = 'https://www.openml.org/data/get_csv/4965303/flare.arff' \n",
        "\n",
        "dataset = np.genfromtxt(dataset_url, delimiter=',', skip_header=1)\n",
        "\n",
        "### -------------------------------------------------------------------------------\n",
        "### Dividid los ejemplos en atributos y clases. Guardad el número de atributos.\n",
        "### -------------------------------------------------------------------------------\n",
        "\n",
        "x = dataset[:,:-1]\n",
        "x_size = x.shape[1]\n",
        "y = dataset[:,-1]"
      ]
    },
    {
      "cell_type": "code",
      "execution_count": 62,
      "metadata": {
        "id": "6bhpFdYNCVKk"
      },
      "outputs": [
        {
          "name": "stdout",
          "output_type": "stream",
          "text": [
            "Ejemplo 0: [5. 4. 3. 1. 3. 1. 1. 2. 1. 1.] 0.0\n",
            "Atributos: 10\n",
            "Clases: [0. 1.]\n",
            "Recuento de clases: 884 182\n",
            "Examplos: 1066\n"
          ]
        }
      ],
      "source": [
        "# Resultados de la división y el número de atributos\n",
        "\n",
        "print('Ejemplo 0:', x[0], y[1])\n",
        "print('Atributos:', x_size)\n",
        "print('Clases:', np.unique(y))\n",
        "print('Recuento de clases:', y.tolist().count(0), y.tolist().count(1))\n",
        "print('Examplos:', len(x))"
      ]
    },
    {
      "cell_type": "code",
      "execution_count": 10,
      "metadata": {
        "id": "5oBLBAWR7N92"
      },
      "outputs": [
        {
          "data": {
            "image/png": "[encoded data removed]",
            "text/plain": [
              "<Figure size 432x288 with 12 Axes>"
            ]
          },
          "metadata": {
            "needs_background": "light"
          },
          "output_type": "display_data"
        }
      ],
      "source": [
        "# create pairwise scatter plots of numeric input variables\n",
        "from pandas import read_csv\n",
        "from pandas import DataFrame\n",
        "from pandas.plotting import scatter_matrix\n",
        "from matplotlib import pyplot\n",
        "\n",
        "# load the csv file as a data frame\n",
        "df = read_csv(dataset_url, header=1)\n",
        "\n",
        "# histograms of all variables \n",
        "df.hist()\n",
        "pyplot.show()"
      ]
    },
    {
      "cell_type": "code",
      "execution_count": null,
      "metadata": {
        "id": "CHMR1k6adBxU"
      },
      "outputs": [],
      "source": [
        "# Normalizad los datos (si es necesario)\n",
        "\n",
        "# from sklearn.preprocessing import StandardScaler\n",
        "# scaler = StandardScaler()\n",
        "# scaler.fit(x)\n",
        "# x = scaler.transform(x)"
      ]
    },
    {
      "cell_type": "markdown",
      "metadata": {
        "id": "QKjVzq5PFAa5"
      },
      "source": [
        "### <font color=\"#CA3532\">Definición del modelo</font>\n",
        "\n",
        "- Cada capa del modelo lleva definidas una serie de propiedades (tamaño, función de activación, conectividad, etc.). \n",
        "\n",
        "- Usaremos el modelo secuencial que Keras para crear una red neuronal multicapa con propagación hacia adelante.\n",
        "\n"
      ]
    },
    {
      "cell_type": "code",
      "execution_count": 63,
      "metadata": {
        "id": "jSiN2kBpfJH2"
      },
      "outputs": [],
      "source": [
        "# Definid el modelo con Keras\n",
        "\n",
        "nn = Sequential()\n",
        "\n",
        "### -------------------------------------------------------------------------------\n",
        "### Añadir la capas completamente conectadas que consideréis al modelo\n",
        "### -------------------------------------------------------------------------------\n",
        "\n",
        "nn.add(Dense(x_size, activation=\"sigmoid\"))\n",
        "nn.add(Dense(5, activation=\"sigmoid\")) # Añadimos capa oculta\n",
        "nn.add(Dense(1, activation=\"sigmoid\"))\n"
      ]
    },
    {
      "cell_type": "markdown",
      "metadata": {
        "id": "XYS0uGZZjLqA"
      },
      "source": [
        "### <font color=\"#CA3532\">Compilación de la red neuronal</font>\n",
        "\n",
        "- La compilación es la operación que contruye la red neuronal.\n",
        "\n",
        "- La compilación incluye aspectos que se tendrán en cuenta en el entrenamiento de la red neuronal.\n",
        "\n",
        "- En la secciones de abajo encontraréis enlaces a la documentación oficial donde podréis encontrar información sobre las distintas estrategias de cada uno de los aspectos.\n",
        "\n",
        "- También es posible definid vuestras propias funciones.\n",
        "\n",
        "#### <font color=\"#CA3532\">Optimizador</font>\n",
        "\n",
        "El optimizador es la estrategia para calcular las correcciones de los pesos.\n",
        "\n",
        "https://keras.io/api/optimizers/\n",
        "\n",
        "\n",
        "#### <font color=\"#CA3532\"> Función de error (*Loss function*)</font>\n",
        "\n",
        "La función de error calcula la cantidad que el modelo debe minimizar durante el entrenamiento.\n",
        "\n",
        "https://keras.io/api/losses/\n",
        "\n",
        "#### <font color=\"#CA3532\">Métricas</font>\n",
        "\n",
        "Una métrica es una función que juzga la actuación del modelo. Son funciones similares a las funciones de error pero, a diferencia de estas, no se aplican durante el entrenamiento, sino sobre los resultados. Aprende al menos el significado y las diferencias de las métricas *accuracy*, *precision*, *recall* y *AUC*. También pueden usarse las funciones de error como metricas.\n",
        "\n",
        "https://keras.io/api/metrics/"
      ]
    },
    {
      "cell_type": "code",
      "execution_count": 64,
      "metadata": {
        "id": "tU7t0cyMf-pL"
      },
      "outputs": [],
      "source": [
        "# Compilación\n",
        "\n",
        "### -------------------------------------------------------------------------------\n",
        "### Compilad vuestro modelo de red neuronal\n",
        "### -------------------------------------------------------------------------------\n",
        "\n",
        "metrics = [\n",
        "            #keras.metrics.TruePositives(name='tp'),\n",
        "            #keras.metrics.FalsePositives(name='fp'),\n",
        "            #keras.metrics.TrueNegatives(name='tn'),\n",
        "            #keras.metrics.FalseNegatives(name='fn'),\n",
        "            keras.metrics.BinaryAccuracy(name='ACC'),\n",
        "            keras.metrics.Precision(name='Prec'),\n",
        "            keras.metrics.Recall(name='Rec'),\n",
        "            keras.metrics.AUC(name='AUC'),\n",
        "            #keras.metrics.AUC(name='PRC', curve='PR'),\n",
        "          ]\n",
        "\n",
        "#nn.compile(optimizer='SGD', loss=\"mse\", metrics=metrics)\n",
        "nn.compile(optimizer='Adam', loss=\"binary_crossentropy\", metrics=metrics)\n",
        "\n",
        "nn.build((None, x_size))\n",
        "initial_weights = nn.get_weights() # Nos guardamos los pesos iniciales para usar los mismos con todos los experimentos"
      ]
    },
    {
      "cell_type": "markdown",
      "metadata": {
        "id": "7dRac4W1t69B"
      },
      "source": [
        "### <font color=\"#CA3532\">Conjuntos de entrenamiento y validación</font>\n",
        "\n",
        "Usaremos el 80 % de los datos para entrenamiento y el 20 % para validación. Usaremos también la técnica de muestreo estratificado (también están permitidas otras formas de validación). Averigua qué es y para qué sirve."
      ]
    },
    {
      "cell_type": "code",
      "execution_count": 65,
      "metadata": {
        "id": "QA3AW4y7j_Ar"
      },
      "outputs": [],
      "source": [
        "# Contrucción de los conjuntos de entrenamiento y validación\n",
        "\n",
        "from sklearn.model_selection import train_test_split\n",
        "\n",
        "x_train, x_val, y_train, y_val = train_test_split(x, y, stratify=y, test_size=0.2, random_state=SEED)  # Fijamos la seed"
      ]
    },
    {
      "cell_type": "markdown",
      "metadata": {
        "id": "dDFUBCUVugVj"
      },
      "source": [
        "### <font color=\"#CA3532\">Visualización de resultados</font>\n",
        "\n",
        "Para la visualización de los resultados utilizaremos gráficas con la evolución de la función de pérdida y las métricas en cada época del entrenamiento, tanto para los datos de entrenamiento como para los de validación.\n",
        "\n",
        "También obtendremos la matriz de confusión y alguna métricas sobre cada clase del problema. Observaremos especialmente la medida macro-F1."
      ]
    },
    {
      "cell_type": "code",
      "execution_count": 66,
      "metadata": {
        "id": "6pgKzRcysRwv"
      },
      "outputs": [],
      "source": [
        "from sklearn.metrics import classification_report, confusion_matrix\n",
        "\n",
        "def show_metrics(history):\n",
        "  for metric in history.history.keys():\n",
        "    if not metric.startswith('val_'):\n",
        "      plt.plot(history.history[metric], label=metric)\n",
        "      plt.plot(history.history[f'val_{metric}'], label=f'val_{metric}')\n",
        "      plt.title(metric)\n",
        "      plt.ylabel('')\n",
        "      plt.xlabel('Epoch')\n",
        "      plt.legend(loc=\"upper left\")\n",
        "      plt.show()"
      ]
    },
    {
      "cell_type": "markdown",
      "metadata": {
        "id": "x-rNfZzqINgY"
      },
      "source": [
        "### <font color=\"#CA3532\">Entrenamiento de la red neuronal y evaluación</font>\n",
        "\n",
        "El método \"fit\" entrena una red neuronal con los datos que se le proporcionen.\n",
        "\n",
        "https://keras.io/api/models/model_training_apis/#fit-method"
      ]
    },
    {
      "cell_type": "code",
      "execution_count": 67,
      "metadata": {
        "id": "iEhDqXzLIISj"
      },
      "outputs": [
        {
          "name": "stdout",
          "output_type": "stream",
          "text": [
            "Model: \"sequential_2\"\n",
            "_________________________________________________________________\n",
            "Layer (type)                 Output Shape              Param #   \n",
            "=================================================================\n",
            "dense_6 (Dense)              (None, 10)                110       \n",
            "_________________________________________________________________\n",
            "dense_7 (Dense)              (None, 5)                 55        \n",
            "_________________________________________________________________\n",
            "dense_8 (Dense)              (None, 1)                 6         \n",
            "=================================================================\n",
            "Total params: 171\n",
            "Trainable params: 171\n",
            "Non-trainable params: 0\n",
            "_________________________________________________________________\n",
            "\n",
            "\n",
            "\n"
          ]
        },
        {
          "data": {
            "image/png": "[encoded data removed]",
            "text/plain": [
              "<Figure size 432x288 with 1 Axes>"
            ]
          },
          "metadata": {
            "needs_background": "light"
          },
          "output_type": "display_data"
        },
        {
          "data": {
            "image/png": "[encoded data removed]",
            "text/plain": [
              "<Figure size 432x288 with 1 Axes>"
            ]
          },
          "metadata": {
            "needs_background": "light"
          },
          "output_type": "display_data"
        },
        {
          "data": {
            "image/png": "[encoded data removed]",
            "text/plain": [
              "<Figure size 432x288 with 1 Axes>"
            ]
          },
          "metadata": {
            "needs_background": "light"
          },
          "output_type": "display_data"
        },
        {
          "data": {
            "image/png": "[encoded data removed]",
            "text/plain": [
              "<Figure size 432x288 with 1 Axes>"
            ]
          },
          "metadata": {
            "needs_background": "light"
          },
          "output_type": "display_data"
        },
        {
          "data": {
            "image/png": "[encoded data removed]",
            "text/plain": [
              "<Figure size 432x288 with 1 Axes>"
            ]
          },
          "metadata": {
            "needs_background": "light"
          },
          "output_type": "display_data"
        },
        {
          "name": "stdout",
          "output_type": "stream",
          "text": [
            "[[177   0]\n",
            " [ 37   0]]\n",
            "              precision    recall  f1-score   support\n",
            "\n",
            "         0.0       0.83      1.00      0.91       177\n",
            "         1.0       0.00      0.00      0.00        37\n",
            "\n",
            "    accuracy                           0.83       214\n",
            "   macro avg       0.41      0.50      0.45       214\n",
            "weighted avg       0.68      0.83      0.75       214\n",
            "\n"
          ]
        }
      ],
      "source": [
        "# Entrenamiento\n",
        "\n",
        "epochs = 100\n",
        "\n",
        "history = nn.fit(x_train, y_train, epochs=epochs, verbose=0, validation_data=(x_val, y_val))\n",
        "\n",
        "# Predicciones del conjunto de evaluación\n",
        "\n",
        "y_pred = nn.predict(x_val)\n",
        "y_pred = y_pred > 0.5\n",
        "\n",
        "# Detalles de la red neuronal\n",
        "\n",
        "nn.summary()\n",
        "print('\\n\\n')\n",
        "\n",
        "# Visualización de las métricas \n",
        "\n",
        "show_metrics(history)\n",
        "\n",
        "# Matriz de confusión\n",
        "\n",
        "print(confusion_matrix(y_val, y_pred))\n",
        "\n",
        "# Observa la medida macro-f1 del siguiente informe\n",
        "\n",
        "print(classification_report(y_val, y_pred, zero_division=0))\n"
      ]
    },
    {
      "cell_type": "markdown",
      "metadata": {
        "id": "zo8KQlCaGEw9"
      },
      "source": [
        "### <font color=\"#CA3532\">Entrenamiento de la red neuronal y evaluación</font>\n",
        "Como podrás haber observado en problema no está balanceado (o está bastante desequilibrado), porque el número de ejemplos de cada clase es muy diferente."
      ]
    },
    {
      "cell_type": "markdown",
      "metadata": {
        "id": "amDlvLOgHw2J"
      },
      "source": [
        "Existen varias técnicas para abortar este tipo de problemas. Una de ellas consiste seleccionar un subconjunto de datos equilibrados en el que las dos clases esten representadas en la misma proporción.\n"
      ]
    },
    {
      "cell_type": "code",
      "execution_count": 68,
      "metadata": {
        "id": "rhdYlNseGFh0"
      },
      "outputs": [],
      "source": [
        "### -------------------------------------------------------------------------------\n",
        "### Assigna diferentes pesos a cada una de las clases\n",
        "### -------------------------------------------------------------------------------\n",
        "\n",
        "n_clase_1 = np.count_nonzero(y == 1)\n",
        "train_index_clase_0 = (y_train == 0).nonzero()[0]\n",
        "val_index_clase_0 = (y_val == 0).nonzero()[0]\n",
        "\n",
        "train_index_to_remove = np.random.choice(train_index_clase_0, np.count_nonzero(y_train == 0) - int(n_clase_1*0.8), replace=False) # TODO explicar\n",
        "val_index_to_remove = np.random.choice(val_index_clase_0, np.count_nonzero(y_val == 0) - int(n_clase_1*0.2), replace=False)\n",
        "\n",
        "x_train_balanceado = np.delete(x_train, train_index_to_remove, axis=0)\n",
        "y_train_balanceado = np.delete(y_train, train_index_to_remove)\n",
        "\n",
        "x_val_balanceado = np.delete(x_val, val_index_to_remove, axis=0)\n",
        "y_val_balanceado = np.delete(y_val, val_index_to_remove)"
      ]
    },
    {
      "cell_type": "markdown",
      "metadata": {
        "id": "WFXPn9gEIqCa"
      },
      "source": [
        "Vuelve a entrenar con este nuevo conjunto de datos y observa como varía el resultado de la matriz de confusión. Si es posible, intenta conseguir un modelo mejor y describe los resultados alcanzados."
      ]
    },
    {
      "cell_type": "code",
      "execution_count": 69,
      "metadata": {
        "id": "q6Q365wEIhQg"
      },
      "outputs": [
        {
          "name": "stdout",
          "output_type": "stream",
          "text": [
            "Model: \"sequential_2\"\n",
            "_________________________________________________________________\n",
            "Layer (type)                 Output Shape              Param #   \n",
            "=================================================================\n",
            "dense_6 (Dense)              (None, 10)                110       \n",
            "_________________________________________________________________\n",
            "dense_7 (Dense)              (None, 5)                 55        \n",
            "_________________________________________________________________\n",
            "dense_8 (Dense)              (None, 1)                 6         \n",
            "=================================================================\n",
            "Total params: 171\n",
            "Trainable params: 171\n",
            "Non-trainable params: 0\n",
            "_________________________________________________________________\n",
            "\n",
            "\n",
            "\n",
            "              precision    recall  f1-score   support\n",
            "\n",
            "         0.0       0.74      0.81      0.77        36\n",
            "         1.0       0.79      0.73      0.76        37\n",
            "\n",
            "    accuracy                           0.77        73\n",
            "   macro avg       0.77      0.77      0.77        73\n",
            "weighted avg       0.77      0.77      0.77        73\n",
            "\n",
            "[[29  7]\n",
            " [10 27]]\n"
          ]
        }
      ],
      "source": [
        "nn.set_weights(initial_weights) # Reseteamos los pesos para no empezar el entrenamiento con pesos ya previamente entrenados\n",
        "history = nn.fit(x_train_balanceado, y_train_balanceado, epochs=epochs, verbose=0, validation_data=(x_val_balanceado, y_val_balanceado))\n",
        "\n",
        "# Detalles de la red neuronal\n",
        "\n",
        "nn.summary()\n",
        "print('\\n\\n')\n",
        "\n",
        "y_pred = nn.predict(x_val_balanceado)\n",
        "y_pred = y_pred > 0.5\n",
        "\n",
        "print(classification_report(y_val_balanceado, y_pred, zero_division=0))\n",
        "\n",
        "print(confusion_matrix(y_val_balanceado, y_pred))"
      ]
    },
    {
      "cell_type": "markdown",
      "metadata": {
        "id": "UCtSYvuRvpBy"
      },
      "source": [
        "Otra técnica consiste en asignar un peso a cada clase para que lo tenga en cuenta en algoritmo de entrenamiento.\n",
        "Aprende lo que hace el parámetro ```class_weight``` de ```fit``` (https://keras.io/api/models/model_training_apis/#fit-method) y explícalo."
      ]
    },
    {
      "cell_type": "code",
      "execution_count": 70,
      "metadata": {
        "id": "CJfmolAdkGDY"
      },
      "outputs": [
        {
          "name": "stdout",
          "output_type": "stream",
          "text": [
            "{0: 0.6025459688826026, 1: 2.9379310344827587}\n"
          ]
        }
      ],
      "source": [
        "### -------------------------------------------------------------------------------\n",
        "### Assigna diferentes pesos a cada una de las clases\n",
        "### -------------------------------------------------------------------------------\n",
        "\n",
        "from sklearn.utils import class_weight\n",
        "\n",
        "class_weights = class_weight.compute_class_weight('balanced', classes=np.unique(y_train), y=y_train)\n",
        "\n",
        "class_weights = {0: class_weights[0], 1: class_weights[1]}\n",
        "\n",
        "print(class_weights)"
      ]
    },
    {
      "cell_type": "markdown",
      "metadata": {
        "id": "xNJ5dCdTyTBc"
      },
      "source": [
        "Vuelve a entrenar considerando distintos pesos y observa como varía el resultado de la matriz de confusión. Si es posible, intenta conseguir un modelo mejor y describe los resultados alcanzados."
      ]
    },
    {
      "cell_type": "code",
      "execution_count": 71,
      "metadata": {
        "id": "j4hMiyuSkQgK"
      },
      "outputs": [
        {
          "name": "stdout",
          "output_type": "stream",
          "text": [
            "Model: \"sequential_2\"\n",
            "_________________________________________________________________\n",
            "Layer (type)                 Output Shape              Param #   \n",
            "=================================================================\n",
            "dense_6 (Dense)              (None, 10)                110       \n",
            "_________________________________________________________________\n",
            "dense_7 (Dense)              (None, 5)                 55        \n",
            "_________________________________________________________________\n",
            "dense_8 (Dense)              (None, 1)                 6         \n",
            "=================================================================\n",
            "Total params: 171\n",
            "Trainable params: 171\n",
            "Non-trainable params: 0\n",
            "_________________________________________________________________\n",
            "\n",
            "\n",
            "\n",
            "              precision    recall  f1-score   support\n",
            "\n",
            "         0.0       0.95      0.70      0.81       177\n",
            "         1.0       0.36      0.81      0.50        37\n",
            "\n",
            "    accuracy                           0.72       214\n",
            "   macro avg       0.65      0.76      0.65       214\n",
            "weighted avg       0.85      0.72      0.75       214\n",
            "\n",
            "[[124  53]\n",
            " [  7  30]]\n"
          ]
        }
      ],
      "source": [
        "nn.set_weights(initial_weights) # Reseteamos los pesos para no empezar el entrenamiento con pesos ya previamente entrenados\n",
        "history = nn.fit(x_train, y_train, epochs=epochs, verbose=0, class_weight=class_weights, validation_data=(x_val, y_val))\n",
        "\n",
        "# Detalles de la red neuronal\n",
        "\n",
        "nn.summary()\n",
        "print('\\n\\n')\n",
        "\n",
        "y_pred = nn.predict(x_val)\n",
        "y_pred = y_pred > 0.5\n",
        "\n",
        "print(classification_report(y_val, y_pred, zero_division=0))\n",
        "\n",
        "print(confusion_matrix(y_val, y_pred))"
      ]
    },
    {
      "cell_type": "markdown",
      "metadata": {
        "id": "Z8E37UJTNqtg"
      },
      "source": [
        "### <font color=\"#CA3532\">Optimización del diseño de la red neuronal</font>\n",
        "\n",
        "- Cambiad la arquitectura de la red neuronal introduciendo más capas y neuronas para conseguir mejores resultados:\n",
        " - Añadid más capas o diferente tipo de capas.\n",
        " - Cambiad las funciones de activación.\n",
        " - Cambiad la función de error o el optimizador.\n",
        "\n",
        "- Utilizad ```tuner``` para la búsqueda de estos hiperparámetros (https://keras.io/keras_tuner/).\n"
      ]
    },
    {
      "cell_type": "code",
      "execution_count": 72,
      "metadata": {
        "id": "i0iByM16ywAk"
      },
      "outputs": [
        {
          "name": "stdout",
          "output_type": "stream",
          "text": [
            "Collecting keras-tuner\n",
            "  Downloading keras_tuner-1.1.2-py3-none-any.whl (133 kB)\n",
            "Requirement already satisfied: requests in c:\\users\\álvaro\\appdata\\local\\programs\\python\\python36\\lib\\site-packages (from keras-tuner) (2.26.0)\n",
            "Requirement already satisfied: numpy in c:\\users\\álvaro\\appdata\\local\\programs\\python\\python36\\lib\\site-packages (from keras-tuner) (1.19.5)\n",
            "Requirement already satisfied: packaging in c:\\users\\álvaro\\appdata\\local\\programs\\python\\python36\\lib\\site-packages (from keras-tuner) (21.0)\n",
            "Collecting kt-legacy\n",
            "  Downloading kt_legacy-1.0.4-py3-none-any.whl (9.6 kB)\n",
            "Requirement already satisfied: ipython in c:\\users\\álvaro\\appdata\\local\\programs\\python\\python36\\lib\\site-packages (from keras-tuner) (7.16.1)\n",
            "Requirement already satisfied: tensorboard in c:\\users\\álvaro\\appdata\\local\\programs\\python\\python36\\lib\\site-packages (from keras-tuner) (2.6.0)\n",
            "Requirement already satisfied: prompt-toolkit!=3.0.0,!=3.0.1,<3.1.0,>=2.0.0 in c:\\users\\álvaro\\appdata\\local\\programs\\python\\python36\\lib\\site-packages (from ipython->keras-tuner) (3.0.20)\n",
            "Requirement already satisfied: colorama in c:\\users\\álvaro\\appdata\\roaming\\python\\python36\\site-packages (from ipython->keras-tuner) (0.4.4)\n",
            "Requirement already satisfied: decorator in c:\\users\\álvaro\\appdata\\local\\programs\\python\\python36\\lib\\site-packages (from ipython->keras-tuner) (4.4.2)\n",
            "Requirement already satisfied: pickleshare in c:\\users\\álvaro\\appdata\\local\\programs\\python\\python36\\lib\\site-packages (from ipython->keras-tuner) (0.7.5)\n",
            "Requirement already satisfied: traitlets>=4.2 in c:\\users\\álvaro\\appdata\\local\\programs\\python\\python36\\lib\\site-packages (from ipython->keras-tuner) (4.3.3)\n",
            "Requirement already satisfied: setuptools>=18.5 in c:\\users\\álvaro\\appdata\\local\\programs\\python\\python36\\lib\\site-packages (from ipython->keras-tuner) (59.6.0)\n",
            "Requirement already satisfied: pygments in c:\\users\\álvaro\\appdata\\local\\programs\\python\\python36\\lib\\site-packages (from ipython->keras-tuner) (2.10.0)\n",
            "Requirement already satisfied: jedi>=0.10 in c:\\users\\álvaro\\appdata\\local\\programs\\python\\python36\\lib\\site-packages (from ipython->keras-tuner) (0.18.0)\n",
            "Requirement already satisfied: backcall in c:\\users\\álvaro\\appdata\\local\\programs\\python\\python36\\lib\\site-packages (from ipython->keras-tuner) (0.2.0)\n",
            "Requirement already satisfied: pyparsing>=2.0.2 in c:\\users\\álvaro\\appdata\\local\\programs\\python\\python36\\lib\\site-packages (from packaging->keras-tuner) (2.4.7)\n",
            "Requirement already satisfied: certifi>=2017.4.17 in c:\\users\\álvaro\\appdata\\local\\programs\\python\\python36\\lib\\site-packages (from requests->keras-tuner) (2021.5.30)\n",
            "Requirement already satisfied: urllib3<1.27,>=1.21.1 in c:\\users\\álvaro\\appdata\\local\\programs\\python\\python36\\lib\\site-packages (from requests->keras-tuner) (1.26.7)\n",
            "Requirement already satisfied: charset-normalizer~=2.0.0 in c:\\users\\álvaro\\appdata\\local\\programs\\python\\python36\\lib\\site-packages (from requests->keras-tuner) (2.0.9)\n",
            "Requirement already satisfied: idna<4,>=2.5 in c:\\users\\álvaro\\appdata\\local\\programs\\python\\python36\\lib\\site-packages (from requests->keras-tuner) (3.3)\n",
            "Requirement already satisfied: werkzeug>=0.11.15 in c:\\users\\álvaro\\appdata\\local\\programs\\python\\python36\\lib\\site-packages (from tensorboard->keras-tuner) (2.0.2)\n",
            "Requirement already satisfied: protobuf>=3.6.0 in c:\\users\\álvaro\\appdata\\local\\programs\\python\\python36\\lib\\site-packages (from tensorboard->keras-tuner) (3.19.1)\n",
            "Requirement already satisfied: google-auth-oauthlib<0.5,>=0.4.1 in c:\\users\\álvaro\\appdata\\local\\programs\\python\\python36\\lib\\site-packages (from tensorboard->keras-tuner) (0.4.6)\n",
            "Requirement already satisfied: google-auth<2,>=1.6.3 in c:\\users\\álvaro\\appdata\\local\\programs\\python\\python36\\lib\\site-packages (from tensorboard->keras-tuner) (1.35.0)\n",
            "Requirement already satisfied: absl-py>=0.4 in c:\\users\\álvaro\\appdata\\local\\programs\\python\\python36\\lib\\site-packages (from tensorboard->keras-tuner) (0.15.0)\n",
            "Requirement already satisfied: markdown>=2.6.8 in c:\\users\\álvaro\\appdata\\local\\programs\\python\\python36\\lib\\site-packages (from tensorboard->keras-tuner) (3.3.4)\n",
            "Requirement already satisfied: tensorboard-data-server<0.7.0,>=0.6.0 in c:\\users\\álvaro\\appdata\\local\\programs\\python\\python36\\lib\\site-packages (from tensorboard->keras-tuner) (0.6.1)\n",
            "Requirement already satisfied: wheel>=0.26 in c:\\users\\álvaro\\appdata\\local\\programs\\python\\python36\\lib\\site-packages (from tensorboard->keras-tuner) (0.37.1)\n",
            "Requirement already satisfied: grpcio>=1.24.3 in c:\\users\\álvaro\\appdata\\local\\programs\\python\\python36\\lib\\site-packages (from tensorboard->keras-tuner) (1.43.0)\n",
            "Requirement already satisfied: tensorboard-plugin-wit>=1.6.0 in c:\\users\\álvaro\\appdata\\local\\programs\\python\\python36\\lib\\site-packages (from tensorboard->keras-tuner) (1.8.0)\n",
            "Requirement already satisfied: six in c:\\users\\álvaro\\appdata\\local\\programs\\python\\python36\\lib\\site-packages (from absl-py>=0.4->tensorboard->keras-tuner) (1.15.0)\n",
            "Requirement already satisfied: rsa<5,>=3.1.4 in c:\\users\\álvaro\\appdata\\local\\programs\\python\\python36\\lib\\site-packages (from google-auth<2,>=1.6.3->tensorboard->keras-tuner) (4.8)\n",
            "Requirement already satisfied: cachetools<5.0,>=2.0.0 in c:\\users\\álvaro\\appdata\\local\\programs\\python\\python36\\lib\\site-packages (from google-auth<2,>=1.6.3->tensorboard->keras-tuner) (4.2.2)\n",
            "Requirement already satisfied: pyasn1-modules>=0.2.1 in c:\\users\\álvaro\\appdata\\local\\programs\\python\\python36\\lib\\site-packages (from google-auth<2,>=1.6.3->tensorboard->keras-tuner) (0.2.8)\n",
            "Requirement already satisfied: requests-oauthlib>=0.7.0 in c:\\users\\álvaro\\appdata\\local\\programs\\python\\python36\\lib\\site-packages (from google-auth-oauthlib<0.5,>=0.4.1->tensorboard->keras-tuner) (1.3.0)\n",
            "Requirement already satisfied: parso<0.9.0,>=0.8.0 in c:\\users\\álvaro\\appdata\\local\\programs\\python\\python36\\lib\\site-packages (from jedi>=0.10->ipython->keras-tuner) (0.8.2)\n",
            "Requirement already satisfied: importlib-metadata in c:\\users\\álvaro\\appdata\\roaming\\python\\python36\\site-packages (from markdown>=2.6.8->tensorboard->keras-tuner) (4.8.1)\n",
            "Requirement already satisfied: wcwidth in c:\\users\\álvaro\\appdata\\local\\programs\\python\\python36\\lib\\site-packages (from prompt-toolkit!=3.0.0,!=3.0.1,<3.1.0,>=2.0.0->ipython->keras-tuner) (0.2.5)\n",
            "Requirement already satisfied: ipython-genutils in c:\\users\\álvaro\\appdata\\local\\programs\\python\\python36\\lib\\site-packages (from traitlets>=4.2->ipython->keras-tuner) (0.2.0)\n",
            "Requirement already satisfied: dataclasses in c:\\users\\álvaro\\appdata\\local\\programs\\python\\python36\\lib\\site-packages (from werkzeug>=0.11.15->tensorboard->keras-tuner) (0.8)\n",
            "Requirement already satisfied: pyasn1<0.5.0,>=0.4.6 in c:\\users\\álvaro\\appdata\\local\\programs\\python\\python36\\lib\\site-packages (from pyasn1-modules>=0.2.1->google-auth<2,>=1.6.3->tensorboard->keras-tuner) (0.4.8)\n",
            "Requirement already satisfied: oauthlib>=3.0.0 in c:\\users\\álvaro\\appdata\\local\\programs\\python\\python36\\lib\\site-packages (from requests-oauthlib>=0.7.0->google-auth-oauthlib<0.5,>=0.4.1->tensorboard->keras-tuner) (3.1.1)\n",
            "Requirement already satisfied: zipp>=0.5 in c:\\users\\álvaro\\appdata\\roaming\\python\\python36\\site-packages (from importlib-metadata->markdown>=2.6.8->tensorboard->keras-tuner) (3.5.0)\n",
            "Requirement already satisfied: typing-extensions>=3.6.4 in c:\\users\\álvaro\\appdata\\local\\programs\\python\\python36\\lib\\site-packages (from importlib-metadata->markdown>=2.6.8->tensorboard->keras-tuner) (3.7.4.3)\n",
            "Installing collected packages: kt-legacy, keras-tuner\n",
            "Successfully installed keras-tuner-1.1.2 kt-legacy-1.0.4\n"
          ]
        },
        {
          "name": "stderr",
          "output_type": "stream",
          "text": [
            "C:\\Users\\Álvaro\\AppData\\Local\\Programs\\Python\\Python36\\lib\\site-packages\\ipykernel_launcher.py:2: DeprecationWarning: `import kerastuner` is deprecated, please use `import keras_tuner`.\n",
            "  \n"
          ]
        }
      ],
      "source": [
        "!pip install -U keras-tuner\n",
        "from kerastuner.tuners import RandomSearch"
      ]
    },
    {
      "cell_type": "code",
      "execution_count": 76,
      "metadata": {
        "id": "uLcr7sg8M4RH"
      },
      "outputs": [
        {
          "name": "stdout",
          "output_type": "stream",
          "text": [
            "Search space summary\n",
            "Default search space size: 4\n",
            "units (Int)\n",
            "{'default': None, 'conditions': [], 'min_value': 5, 'max_value': 20, 'step': 5, 'sampling': None}\n",
            "activation (Choice)\n",
            "{'default': 'relu', 'conditions': [], 'values': ['relu', 'sigmoid', 'tanh'], 'ordered': False}\n",
            "lr (Float)\n",
            "{'default': 0.0001, 'conditions': [], 'min_value': 0.0001, 'max_value': 0.01, 'step': None, 'sampling': 'log'}\n",
            "optimizer (Choice)\n",
            "{'default': 'adam', 'conditions': [], 'values': ['adam', 'sgd', 'rmsprop'], 'ordered': False}\n",
            "INFO:tensorflow:Oracle triggered exit\n",
            "Results summary\n",
            "Results in .\\untitled_project\n",
            "Showing 10 best trials\n",
            "<keras_tuner.engine.objective.Objective object at 0x000002466E2BF710>\n",
            "Trial summary\n",
            "Hyperparameters:\n",
            "units: 5\n",
            "activation: relu\n",
            "lr: 0.0004012763212263458\n",
            "optimizer: sgd\n",
            "Score: 0.827102800210317\n",
            "Trial summary\n",
            "Hyperparameters:\n",
            "units: 15\n",
            "activation: sigmoid\n",
            "lr: 0.000228430533572026\n",
            "optimizer: rmsprop\n",
            "Score: 0.822429895401001\n",
            "Trial summary\n",
            "Hyperparameters:\n",
            "units: 15\n",
            "activation: sigmoid\n",
            "lr: 0.0019013238753605827\n",
            "optimizer: rmsprop\n",
            "Score: 0.8099688291549683\n",
            "Trial summary\n",
            "Hyperparameters:\n",
            "units: 10\n",
            "activation: tanh\n",
            "lr: 0.005651796781587945\n",
            "optimizer: rmsprop\n",
            "Score: 0.8084112207094828\n",
            "Trial summary\n",
            "Hyperparameters:\n",
            "units: 5\n",
            "activation: sigmoid\n",
            "lr: 0.0013489304109835225\n",
            "optimizer: rmsprop\n",
            "Score: 0.8037383159001669\n",
            "Trial summary\n",
            "Hyperparameters:\n",
            "units: 5\n",
            "activation: relu\n",
            "lr: 0.0005785736732203009\n",
            "optimizer: sgd\n",
            "Score: 0.8006230592727661\n",
            "Trial summary\n",
            "Hyperparameters:\n",
            "units: 20\n",
            "activation: relu\n",
            "lr: 0.004415526555078788\n",
            "optimizer: rmsprop\n",
            "Score: 0.8006230592727661\n",
            "Trial summary\n",
            "Hyperparameters:\n",
            "units: 15\n",
            "activation: relu\n",
            "lr: 0.001662632679170896\n",
            "optimizer: rmsprop\n",
            "Score: 0.7990654110908508\n",
            "Trial summary\n",
            "Hyperparameters:\n",
            "units: 10\n",
            "activation: relu\n",
            "lr: 0.005061117315020232\n",
            "optimizer: adam\n",
            "Score: 0.7990654110908508\n",
            "Trial summary\n",
            "Hyperparameters:\n",
            "units: 10\n",
            "activation: sigmoid\n",
            "lr: 0.0013485876613916195\n",
            "optimizer: rmsprop\n",
            "Score: 0.7959501345952352\n",
            "[[160  17]\n",
            " [ 16  21]]\n",
            "              precision    recall  f1-score   support\n",
            "\n",
            "         0.0       0.91      0.90      0.91       177\n",
            "         1.0       0.55      0.57      0.56        37\n",
            "\n",
            "    accuracy                           0.85       214\n",
            "   macro avg       0.73      0.74      0.73       214\n",
            "weighted avg       0.85      0.85      0.85       214\n",
            "\n"
          ]
        }
      ],
      "source": [
        "### -------------------------------------------------------\n",
        "### Define tu hipermodelo\n",
        "### -------------------------------------------------------\n",
        "\n",
        "def build_model(hp):\n",
        "    nn = Sequential()\n",
        "    nn.add(Dense(hp.Int('units', min_value=5, max_value=20, step=5), activation=hp.Choice('activation', [\"relu\", \"sigmoid\", \"tanh\"])))\n",
        "    nn.add(Dense(1, activation=\"sigmoid\"))\n",
        "    learning_rate = hp.Float(\"lr\", min_value=1e-4, max_value=1e-2, sampling=\"log\")\n",
        "    optimizer_name = hp.Choice('optimizer', ['adam', 'sgd', 'rmsprop'])\n",
        "    optimizer_dict = {'adam': keras.optimizers.Adam(learning_rate=learning_rate), 'sgd': keras.optimizers.SGD(learning_rate=learning_rate), \n",
        "                      'rmsprop': keras.optimizers.RMSprop(learning_rate=learning_rate)}\n",
        "    nn.compile(optimizer=optimizer_dict[optimizer_name], loss=\"binary_crossentropy\", metrics=metrics)\n",
        "    return nn\n",
        "\n",
        "### -------------------------------------------------------\n",
        "### Pon en marcha la búsqueda de hiperparámetros, elije el \n",
        "### objetivo más adecuado.\n",
        "### -------------------------------------------------------\n",
        "\n",
        "tuner = RandomSearch(build_model, objective='val_ACC', max_trials=50, executions_per_trial=3) \n",
        "\n",
        "tuner.search_space_summary()\n",
        "\n",
        "tuner.search(x_train, y_train, epochs=epochs, class_weight=class_weights, validation_data=(x_val, y_val), verbose=0)\n",
        "\n",
        "tuner.results_summary()\n",
        "\n",
        "best_nn = tuner.get_best_models(num_models=1)\n",
        "\n",
        "y_pred = best_nn[0].predict(x_val)\n",
        "y_pred = y_pred > 0.5\n",
        "\n",
        "print(confusion_matrix(y_val, y_pred))\n",
        "\n",
        "print(classification_report(y_val, y_pred, zero_division=0))"
      ]
    },
    {
      "cell_type": "markdown",
      "metadata": {
        "id": "NnY8rX6HzZXU"
      },
      "source": [
        "### <font color=\"#CA3532\">Diseño final de la red neuronal</font>\n",
        "Define ahora tu modelo final y muestra los resultados de su evaluación."
      ]
    },
    {
      "cell_type": "code",
      "execution_count": null,
      "metadata": {
        "id": "Dn7fBHo_zfaz"
      },
      "outputs": [],
      "source": [
        "### ---------------------------------------------------------------------------\n",
        "### Modelo final y evaluación\n",
        "### ---------------------------------------------------------------------------\n",
        "\n",
        "nn_final = Sequential()\n",
        "nn_final.add(...)\n",
        "\n",
        "nn_final.compile(..., metrics=metrics)\n",
        "\n",
        "history = nn_final.fit(x_train, y_train, epochs=epochs, class_weight=class_weights, validation_data=(x_val, y_val), verbose=0)\n",
        "\n",
        "y_pred = nn_final.predict(x_val)\n",
        "y_pred = y_pred > 0.5\n",
        "\n",
        "print(confusion_matrix(y_val, y_pred))\n",
        "\n",
        "print(classification_report(y_val, y_pred, zero_division=0))"
      ]
    }
  ],
  "metadata": {
    "accelerator": "GPU",
    "colab": {
      "collapsed_sections": [],
      "name": "Neuro-P3-enunciado 2021-2022.ipynb",
      "provenance": [],
      "toc_visible": true
    },
    "kernelspec": {
      "display_name": "Python 3",
      "name": "python3"
    },
    "language_info": {
      "codemirror_mode": {
        "name": "ipython",
        "version": 3
      },
      "file_extension": ".py",
      "mimetype": "text/x-python",
      "name": "python",
      "nbconvert_exporter": "python",
      "pygments_lexer": "ipython3",
      "version": "3.6.8"
    }
  },
  "nbformat": 4,
  "nbformat_minor": 0
}
